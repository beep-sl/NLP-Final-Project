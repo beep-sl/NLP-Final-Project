{
  "nbformat": 4,
  "nbformat_minor": 0,
  "metadata": {
    "colab": {
      "provenance": [],
      "history_visible": true
    },
    "kernelspec": {
      "name": "python3",
      "display_name": "Python 3"
    },
    "language_info": {
      "name": "python"
    }
  },
  "cells": [
    {
      "cell_type": "code",
      "source": [
        "import imaplib\n",
        "import email\n",
        "from email.header import decode_header\n",
        "import webbrowser\n",
        "import os\n",
        "import pandas as pd\n",
        "import re\n",
        "\n",
        "import numpy as np\n",
        "import matplotlib.pyplot as plt\n",
        "import seaborn as sns\n",
        "import warnings\n",
        "warnings.filterwarnings('ignore')\n",
        "%matplotlib inline\n",
        "import re \n",
        "import string \n",
        "import time\n",
        "pd.set_option(\"display.max_rows\",50)\n",
        "from nltk.corpus import stopwords\n",
        "import nltk\n",
        "nltk.download('stopwords')\n",
        "\n",
        "from sklearn.preprocessing import LabelEncoder\n",
        "from sklearn.feature_extraction.text import CountVectorizer\n",
        "from sklearn.feature_extraction.text import TfidfVectorizer\n",
        "from sklearn.model_selection import cross_validate\n",
        "\n",
        "from sklearn.naive_bayes import MultinomialNB,GaussianNB\n",
        "from sklearn.tree import DecisionTreeClassifier\n",
        "from sklearn.svm import LinearSVC\n",
        "from sklearn.ensemble import AdaBoostClassifier\n",
        "from sklearn.neural_network import MLPClassifier"
      ],
      "metadata": {
        "colab": {
          "base_uri": "https://localhost:8080/"
        },
        "id": "YKCHD4zPZPxP",
        "outputId": "31e332ef-1470-4548-c3c0-c636145a828c"
      },
      "execution_count": 1,
      "outputs": [
        {
          "output_type": "stream",
          "name": "stderr",
          "text": [
            "[nltk_data] Downloading package stopwords to /root/nltk_data...\n",
            "[nltk_data]   Unzipping corpora/stopwords.zip.\n"
          ]
        }
      ]
    },
    {
      "cell_type": "code",
      "execution_count": 2,
      "metadata": {
        "id": "_d78pIqoY-ij"
      },
      "outputs": [],
      "source": [
        "#df= pd.read_csv(\"cleaned_dataset.csv\")"
      ]
    },
    {
      "cell_type": "code",
      "source": [
        "#df.head()"
      ],
      "metadata": {
        "id": "6tdZ_-WLZlSi"
      },
      "execution_count": 3,
      "outputs": []
    },
    {
      "cell_type": "code",
      "source": [
        "#df.shape"
      ],
      "metadata": {
        "id": "5V1ilt76Zmfo"
      },
      "execution_count": 4,
      "outputs": []
    },
    {
      "cell_type": "code",
      "source": [
        "#def remove_folders_with_n_emails(emails,n):\n",
        "#    email_count = dict(df['X-Folder'].value_counts())\n",
        "#    small_folder = [key for key, value in email_count.items() if value<=n]\n",
        "#    email=df.loc[~df['X-Folder'].isin(small_folder)]\n",
        "#    return email"
      ],
      "metadata": {
        "id": "siZCwHgkZqPl"
      },
      "execution_count": 5,
      "outputs": []
    },
    {
      "cell_type": "code",
      "source": [
        "#n = 150\n",
        "#df = remove_folders_with_n_emails(df, n)"
      ],
      "metadata": {
        "id": "dJPoJj3WZmgg"
      },
      "execution_count": 6,
      "outputs": []
    },
    {
      "cell_type": "code",
      "source": [
        "#df.head(3)"
      ],
      "metadata": {
        "id": "yo7G9t8iZoys"
      },
      "execution_count": 7,
      "outputs": []
    },
    {
      "cell_type": "code",
      "source": [
        "#df.shape"
      ],
      "metadata": {
        "id": "Ngd98FH6Zo1f"
      },
      "execution_count": 8,
      "outputs": []
    },
    {
      "cell_type": "code",
      "source": [
        "#print(\"total unique folders :\",len(df['X-Folder'].unique()))"
      ],
      "metadata": {
        "id": "mrNrxSohZo4W"
      },
      "execution_count": 9,
      "outputs": []
    },
    {
      "cell_type": "code",
      "source": [
        "#df['text'] = df['Subject'] + \" \" + df['body']"
      ],
      "metadata": {
        "id": "NfUi65O3Zo6-"
      },
      "execution_count": 10,
      "outputs": []
    },
    {
      "cell_type": "code",
      "source": [
        "#df.head(3)"
      ],
      "metadata": {
        "id": "lQpRUq-aZo92"
      },
      "execution_count": 11,
      "outputs": []
    },
    {
      "cell_type": "code",
      "source": [
        "## remove subject and body column from the dataset\n",
        "#drop_col = ['Subject','body']\n",
        "#df.drop(columns=drop_col,axis=1, inplace=True)"
      ],
      "metadata": {
        "id": "R4HOlHE9ZpAa"
      },
      "execution_count": 12,
      "outputs": []
    },
    {
      "cell_type": "code",
      "source": [
        "#df.head(3)"
      ],
      "metadata": {
        "id": "s1MxSx1gZpDC"
      },
      "execution_count": 13,
      "outputs": []
    },
    {
      "cell_type": "code",
      "source": [
        "#stopword = stopwords.words('english')"
      ],
      "metadata": {
        "id": "BqPJUWgwZpFZ"
      },
      "execution_count": 14,
      "outputs": []
    },
    {
      "cell_type": "code",
      "source": [
        "    # lowercase words\n",
        "#def preprocess_text(text):\n",
        "#    text = text.lower()\n",
        "#    \n",
        "#    # remove new line \n",
        "#    text = re.sub(r\"\\n+\",\" \",text)\n",
        "#    \n",
        "#    #remove tabs,punctuation and commas\n",
        "#    text= re.sub(\"[\"+string.punctuation+\"]\", \" \", text)\n",
        "#    \n",
        "#    # remove extra white space\n",
        "#    text = re.sub(\"\\s+\",\" \",text)\n",
        "#    \n",
        "#    # remove stopwords from text\n",
        "#    text =\" \".join([word for word in text.split() if word not in stopword])\n",
        "#    return text\n",
        "#\n",
        "#start = time.time()\n",
        "#df['text'] = df['text'].apply(lambda x : preprocess_text(x))"
      ],
      "metadata": {
        "id": "70K2WfSBZpIR"
      },
      "execution_count": 15,
      "outputs": []
    },
    {
      "cell_type": "code",
      "source": [
        "#start= time.time()\n",
        "#folder_dict = dict(df['X-Folder'].value_counts().sort_values()[50:70])\n",
        "#data = df[df['X-Folder'].isin(folder_dict.keys())]\n",
        "#end= time.time()\n",
        "#print(\"total time for execution  :\",(end-start))"
      ],
      "metadata": {
        "id": "b3mOucmEZ57d"
      },
      "execution_count": 16,
      "outputs": []
    },
    {
      "cell_type": "code",
      "source": [
        "#data.to_csv(\"preprocessed.csv\",index=False)"
      ],
      "metadata": {
        "id": "Q_nxSO2-Z58C"
      },
      "execution_count": 17,
      "outputs": []
    },
    {
      "cell_type": "code",
      "source": [
        "data = pd.read_csv(\"preprocessed.csv\")\n",
        "data.head()"
      ],
      "metadata": {
        "id": "zvLyax6WZ6BD",
        "colab": {
          "base_uri": "https://localhost:8080/",
          "height": 206
        },
        "outputId": "34c1873f-1f6b-4899-8f16-3e53fcce1bbd"
      },
      "execution_count": 18,
      "outputs": [
        {
          "output_type": "execute_result",
          "data": {
            "text/plain": [
              "     X-Folder                                               text\n",
              "0  california  caiso notice summer 2001 generation rfb market...\n",
              "1  california  ca iso cal px information related 2000 market ...\n",
              "2  california  caiso notification update inter sc trades adju...\n",
              "3  california  update mif meeting presentations iso website u...\n",
              "4  california  mif presentations presentations market issues ..."
            ],
            "text/html": [
              "\n",
              "  <div id=\"df-89097730-7fca-4507-bc69-f165bbecd8a8\">\n",
              "    <div class=\"colab-df-container\">\n",
              "      <div>\n",
              "<style scoped>\n",
              "    .dataframe tbody tr th:only-of-type {\n",
              "        vertical-align: middle;\n",
              "    }\n",
              "\n",
              "    .dataframe tbody tr th {\n",
              "        vertical-align: top;\n",
              "    }\n",
              "\n",
              "    .dataframe thead th {\n",
              "        text-align: right;\n",
              "    }\n",
              "</style>\n",
              "<table border=\"1\" class=\"dataframe\">\n",
              "  <thead>\n",
              "    <tr style=\"text-align: right;\">\n",
              "      <th></th>\n",
              "      <th>X-Folder</th>\n",
              "      <th>text</th>\n",
              "    </tr>\n",
              "  </thead>\n",
              "  <tbody>\n",
              "    <tr>\n",
              "      <th>0</th>\n",
              "      <td>california</td>\n",
              "      <td>caiso notice summer 2001 generation rfb market...</td>\n",
              "    </tr>\n",
              "    <tr>\n",
              "      <th>1</th>\n",
              "      <td>california</td>\n",
              "      <td>ca iso cal px information related 2000 market ...</td>\n",
              "    </tr>\n",
              "    <tr>\n",
              "      <th>2</th>\n",
              "      <td>california</td>\n",
              "      <td>caiso notification update inter sc trades adju...</td>\n",
              "    </tr>\n",
              "    <tr>\n",
              "      <th>3</th>\n",
              "      <td>california</td>\n",
              "      <td>update mif meeting presentations iso website u...</td>\n",
              "    </tr>\n",
              "    <tr>\n",
              "      <th>4</th>\n",
              "      <td>california</td>\n",
              "      <td>mif presentations presentations market issues ...</td>\n",
              "    </tr>\n",
              "  </tbody>\n",
              "</table>\n",
              "</div>\n",
              "      <button class=\"colab-df-convert\" onclick=\"convertToInteractive('df-89097730-7fca-4507-bc69-f165bbecd8a8')\"\n",
              "              title=\"Convert this dataframe to an interactive table.\"\n",
              "              style=\"display:none;\">\n",
              "        \n",
              "  <svg xmlns=\"http://www.w3.org/2000/svg\" height=\"24px\"viewBox=\"0 0 24 24\"\n",
              "       width=\"24px\">\n",
              "    <path d=\"M0 0h24v24H0V0z\" fill=\"none\"/>\n",
              "    <path d=\"M18.56 5.44l.94 2.06.94-2.06 2.06-.94-2.06-.94-.94-2.06-.94 2.06-2.06.94zm-11 1L8.5 8.5l.94-2.06 2.06-.94-2.06-.94L8.5 2.5l-.94 2.06-2.06.94zm10 10l.94 2.06.94-2.06 2.06-.94-2.06-.94-.94-2.06-.94 2.06-2.06.94z\"/><path d=\"M17.41 7.96l-1.37-1.37c-.4-.4-.92-.59-1.43-.59-.52 0-1.04.2-1.43.59L10.3 9.45l-7.72 7.72c-.78.78-.78 2.05 0 2.83L4 21.41c.39.39.9.59 1.41.59.51 0 1.02-.2 1.41-.59l7.78-7.78 2.81-2.81c.8-.78.8-2.07 0-2.86zM5.41 20L4 18.59l7.72-7.72 1.47 1.35L5.41 20z\"/>\n",
              "  </svg>\n",
              "      </button>\n",
              "      \n",
              "  <style>\n",
              "    .colab-df-container {\n",
              "      display:flex;\n",
              "      flex-wrap:wrap;\n",
              "      gap: 12px;\n",
              "    }\n",
              "\n",
              "    .colab-df-convert {\n",
              "      background-color: #E8F0FE;\n",
              "      border: none;\n",
              "      border-radius: 50%;\n",
              "      cursor: pointer;\n",
              "      display: none;\n",
              "      fill: #1967D2;\n",
              "      height: 32px;\n",
              "      padding: 0 0 0 0;\n",
              "      width: 32px;\n",
              "    }\n",
              "\n",
              "    .colab-df-convert:hover {\n",
              "      background-color: #E2EBFA;\n",
              "      box-shadow: 0px 1px 2px rgba(60, 64, 67, 0.3), 0px 1px 3px 1px rgba(60, 64, 67, 0.15);\n",
              "      fill: #174EA6;\n",
              "    }\n",
              "\n",
              "    [theme=dark] .colab-df-convert {\n",
              "      background-color: #3B4455;\n",
              "      fill: #D2E3FC;\n",
              "    }\n",
              "\n",
              "    [theme=dark] .colab-df-convert:hover {\n",
              "      background-color: #434B5C;\n",
              "      box-shadow: 0px 1px 3px 1px rgba(0, 0, 0, 0.15);\n",
              "      filter: drop-shadow(0px 1px 2px rgba(0, 0, 0, 0.3));\n",
              "      fill: #FFFFFF;\n",
              "    }\n",
              "  </style>\n",
              "\n",
              "      <script>\n",
              "        const buttonEl =\n",
              "          document.querySelector('#df-89097730-7fca-4507-bc69-f165bbecd8a8 button.colab-df-convert');\n",
              "        buttonEl.style.display =\n",
              "          google.colab.kernel.accessAllowed ? 'block' : 'none';\n",
              "\n",
              "        async function convertToInteractive(key) {\n",
              "          const element = document.querySelector('#df-89097730-7fca-4507-bc69-f165bbecd8a8');\n",
              "          const dataTable =\n",
              "            await google.colab.kernel.invokeFunction('convertToInteractive',\n",
              "                                                     [key], {});\n",
              "          if (!dataTable) return;\n",
              "\n",
              "          const docLinkHtml = 'Like what you see? Visit the ' +\n",
              "            '<a target=\"_blank\" href=https://colab.research.google.com/notebooks/data_table.ipynb>data table notebook</a>'\n",
              "            + ' to learn more about interactive tables.';\n",
              "          element.innerHTML = '';\n",
              "          dataTable['output_type'] = 'display_data';\n",
              "          await google.colab.output.renderOutput(dataTable, element);\n",
              "          const docLink = document.createElement('div');\n",
              "          docLink.innerHTML = docLinkHtml;\n",
              "          element.appendChild(docLink);\n",
              "        }\n",
              "      </script>\n",
              "    </div>\n",
              "  </div>\n",
              "  "
            ]
          },
          "metadata": {},
          "execution_count": 18
        }
      ]
    },
    {
      "cell_type": "code",
      "source": [
        "categories = data['X-Folder'].unique()\n",
        "categories"
      ],
      "metadata": {
        "id": "xK3uDDV8Z6Ea",
        "colab": {
          "base_uri": "https://localhost:8080/"
        },
        "outputId": "09102c84-0e34-4210-de1c-ed47d491d63b"
      },
      "execution_count": 19,
      "outputs": [
        {
          "output_type": "execute_result",
          "data": {
            "text/plain": [
              "array(['california', 'calendar', 'resumes', 'archives', 'junk file',\n",
              "       'ces', 'logistics', 'tufco', 'projects', 'online trading',\n",
              "       'management', 'esvl', 'ooc', 'corporate', 'tw-commercial group',\n",
              "       'genco-jv_ipo', 'junk', 'deal discrepancies', 'e-mail bin',\n",
              "       'bill williams iii'], dtype=object)"
            ]
          },
          "metadata": {},
          "execution_count": 19
        }
      ]
    },
    {
      "cell_type": "code",
      "source": [
        "def label_encoder(data):\n",
        "    encoder = LabelEncoder()\n",
        "    # apply encoder on dependent feature means X-Folder\n",
        "    y = encoder.fit_transform(data['X-Folder'])\n",
        "    return y"
      ],
      "metadata": {
        "id": "Xlm8FR5FZ6Hg"
      },
      "execution_count": 20,
      "outputs": []
    },
    {
      "cell_type": "code",
      "source": [
        "y = label_encoder(data)\n",
        "input_data = data['text']"
      ],
      "metadata": {
        "id": "3WKexYdXZ6KI"
      },
      "execution_count": 21,
      "outputs": []
    },
    {
      "cell_type": "markdown",
      "source": [
        "# Let's get a bag of words"
      ],
      "metadata": {
        "id": "A_qUC42IaHmu"
      }
    },
    {
      "cell_type": "code",
      "source": [
        "start = time.time()\n",
        "count_vect = CountVectorizer(min_df=5, max_features=5000)\n",
        "X = count_vect.fit_transform(input_data)\n",
        "end = time.time()\n",
        "print(\"Execution time :\",(end-start))"
      ],
      "metadata": {
        "id": "4c9GxSK0aJJZ",
        "colab": {
          "base_uri": "https://localhost:8080/"
        },
        "outputId": "e8c30e48-9a90-4714-f937-72b7118e7497"
      },
      "execution_count": 22,
      "outputs": [
        {
          "output_type": "stream",
          "name": "stdout",
          "text": [
            "Execution time : 2.2493438720703125\n"
          ]
        }
      ]
    },
    {
      "cell_type": "code",
      "source": [
        "start= time.time()\n",
        "X= X.toarray()\n",
        "print(\"X shape : \",X.shape)\n",
        "end= time.time()\n",
        "print(\"Execution time :\",(end-start))"
      ],
      "metadata": {
        "id": "NUXjaJnJaLMh",
        "colab": {
          "base_uri": "https://localhost:8080/"
        },
        "outputId": "a7a12479-d8a7-4b87-fc85-cdf1ce3ba108"
      },
      "execution_count": 23,
      "outputs": [
        {
          "output_type": "stream",
          "name": "stdout",
          "text": [
            "X shape :  (13586, 5000)\n",
            "Execution time : 0.48056936264038086\n"
          ]
        }
      ]
    },
    {
      "cell_type": "code",
      "source": [
        "# create dataframe to store results\n",
        "f1_data = {\n",
        "    'Algorithm': ['Gaussian NB', 'Multinomial NB','Decision Tree','SVM'],\n",
        "    'BoW': ''\n",
        "}\n",
        "\n",
        "\n",
        "jaccard_data = {\n",
        "    'Algorithm': ['Gaussian NB', 'Multinomial NB', 'Decision Tree','SVM'],\n",
        "    'BoW': ''\n",
        "}\n",
        "\n",
        "\n",
        "acc_data = {\n",
        "    'Algorithm': ['Gaussian NB', 'Multinomial NB','Decision Tree','SVM'],\n",
        "    'BoW': ''\n",
        "}\n",
        "\n",
        "estimator_data = {\n",
        "    'Algorithm': ['Gaussian NB', 'Multinomial NB','Decision Tree','SVM'],\n",
        "    'BoW': ''\n",
        "}\n",
        "\n",
        "f1_df= pd.DataFrame(f1_data)\n",
        "jac_df= pd.DataFrame(jaccard_data)\n",
        "acc_df= pd.DataFrame(acc_data)\n",
        "estimator_df= pd.DataFrame(estimator_data)"
      ],
      "metadata": {
        "id": "0tpL0NsdaLPY"
      },
      "execution_count": 24,
      "outputs": []
    },
    {
      "cell_type": "code",
      "source": [
        "# Training and Evaluation\n",
        "models =[GaussianNB(),MultinomialNB(), DecisionTreeClassifier(), LinearSVC()]\n",
        "\n",
        "names=['GaussianNB','MultinomialNB','DecisionTreeClassifier','LinearSVC']\n",
        "\n",
        "\n",
        "jacc_scores = []\n",
        "acc_scores = []\n",
        "f1_scores = []\n",
        "exec_times = []\n",
        "estimators = []"
      ],
      "metadata": {
        "id": "-USH2IU7aLSQ"
      },
      "execution_count": 25,
      "outputs": []
    },
    {
      "cell_type": "code",
      "source": [
        "for model, name in zip(models,names):\n",
        "    print(model)\n",
        "    start= time.time()\n",
        "    scoring ={\"acc\":'accuracy',\n",
        "             'f1_mac':'f1_macro',\n",
        "             'jacc_mac':'jaccard_macro'}\n",
        "    scores = cross_validate(model,X,y,cv=5, n_jobs=4,scoring=scoring, return_estimator=True)\n",
        "    training_time= (time.time()-start)\n",
        "    print(\"accuracy: \", scores['test_acc'].mean())\n",
        "    print(\"f1_score: \", scores['test_f1_mac'].mean())\n",
        "    print(\"Jaccard_index: \", scores['test_jacc_mac'].mean())\n",
        "    print(\"time (sec): \", training_time)\n",
        "    print(\"\\n\")\n",
        "    jacc_scores.append(scores['test_jacc_mac'].mean())\n",
        "    acc_scores.append(scores['test_acc'].mean())\n",
        "    f1_scores.append(scores['test_f1_mac'].mean())\n",
        "    exec_times.append(training_time)\n",
        "    print(\"Estimator: \", type(scores['estimator']), scores['estimator'])\n",
        "    estimators.append(scores['estimator'])"
      ],
      "metadata": {
        "id": "Gq07g6BqaLU3",
        "colab": {
          "base_uri": "https://localhost:8080/"
        },
        "outputId": "43c235f8-b915-4bd9-9d84-ff7855008152"
      },
      "execution_count": 26,
      "outputs": [
        {
          "output_type": "stream",
          "name": "stdout",
          "text": [
            "GaussianNB()\n",
            "accuracy:  0.5668335498589943\n",
            "f1_score:  0.5441217915003902\n",
            "Jaccard_index:  0.392009682672538\n",
            "time (sec):  19.559530019760132\n",
            "\n",
            "\n",
            "Estimator:  <class 'list'> [GaussianNB(), GaussianNB(), GaussianNB(), GaussianNB(), GaussianNB()]\n",
            "MultinomialNB()\n",
            "accuracy:  0.7278835760885255\n",
            "f1_score:  0.6939782155546919\n",
            "Jaccard_index:  0.5628269573042803\n",
            "time (sec):  45.17524981498718\n",
            "\n",
            "\n",
            "Estimator:  <class 'list'> [MultinomialNB(), MultinomialNB(), MultinomialNB(), MultinomialNB(), MultinomialNB()]\n",
            "DecisionTreeClassifier()\n",
            "accuracy:  0.6400716281510983\n",
            "f1_score:  0.6224774546051386\n",
            "Jaccard_index:  0.4720429285793058\n",
            "time (sec):  89.39858531951904\n",
            "\n",
            "\n",
            "Estimator:  <class 'list'> [DecisionTreeClassifier(), DecisionTreeClassifier(), DecisionTreeClassifier(), DecisionTreeClassifier(), DecisionTreeClassifier()]\n",
            "LinearSVC()\n",
            "accuracy:  0.7163261702473972\n",
            "f1_score:  0.6985491164524109\n",
            "Jaccard_index:  0.5614889087564536\n",
            "time (sec):  40.389232873916626\n",
            "\n",
            "\n",
            "Estimator:  <class 'list'> [LinearSVC(), LinearSVC(), LinearSVC(), LinearSVC(), LinearSVC()]\n"
          ]
        }
      ]
    },
    {
      "cell_type": "code",
      "source": [
        "acc_df['BoW'] = acc_scores\n",
        "f1_df['BoW'] =f1_scores\n",
        "jac_df['BoW'] =jacc_scores\n",
        "acc_df['BoW_time'] = training_time\n",
        "estimator_df['BoW'] = estimators\n"
      ],
      "metadata": {
        "id": "WLHn5oEfaLXe"
      },
      "execution_count": 27,
      "outputs": []
    },
    {
      "cell_type": "code",
      "source": [
        "acc_df['BoW_time'] = training_time"
      ],
      "metadata": {
        "id": "sgzbckTzaSLN"
      },
      "execution_count": 28,
      "outputs": []
    },
    {
      "cell_type": "code",
      "source": [
        "acc_df"
      ],
      "metadata": {
        "id": "QPSKlMNFaSNx",
        "colab": {
          "base_uri": "https://localhost:8080/",
          "height": 175
        },
        "outputId": "b5e3d547-5e8a-43a6-912a-979a035bbf2f"
      },
      "execution_count": 29,
      "outputs": [
        {
          "output_type": "execute_result",
          "data": {
            "text/plain": [
              "        Algorithm       BoW   BoW_time\n",
              "0     Gaussian NB  0.566834  40.389233\n",
              "1  Multinomial NB  0.727884  40.389233\n",
              "2   Decision Tree  0.640072  40.389233\n",
              "3             SVM  0.716326  40.389233"
            ],
            "text/html": [
              "\n",
              "  <div id=\"df-6e52cff3-bd09-4c59-abb3-e2829b53df1f\">\n",
              "    <div class=\"colab-df-container\">\n",
              "      <div>\n",
              "<style scoped>\n",
              "    .dataframe tbody tr th:only-of-type {\n",
              "        vertical-align: middle;\n",
              "    }\n",
              "\n",
              "    .dataframe tbody tr th {\n",
              "        vertical-align: top;\n",
              "    }\n",
              "\n",
              "    .dataframe thead th {\n",
              "        text-align: right;\n",
              "    }\n",
              "</style>\n",
              "<table border=\"1\" class=\"dataframe\">\n",
              "  <thead>\n",
              "    <tr style=\"text-align: right;\">\n",
              "      <th></th>\n",
              "      <th>Algorithm</th>\n",
              "      <th>BoW</th>\n",
              "      <th>BoW_time</th>\n",
              "    </tr>\n",
              "  </thead>\n",
              "  <tbody>\n",
              "    <tr>\n",
              "      <th>0</th>\n",
              "      <td>Gaussian NB</td>\n",
              "      <td>0.566834</td>\n",
              "      <td>40.389233</td>\n",
              "    </tr>\n",
              "    <tr>\n",
              "      <th>1</th>\n",
              "      <td>Multinomial NB</td>\n",
              "      <td>0.727884</td>\n",
              "      <td>40.389233</td>\n",
              "    </tr>\n",
              "    <tr>\n",
              "      <th>2</th>\n",
              "      <td>Decision Tree</td>\n",
              "      <td>0.640072</td>\n",
              "      <td>40.389233</td>\n",
              "    </tr>\n",
              "    <tr>\n",
              "      <th>3</th>\n",
              "      <td>SVM</td>\n",
              "      <td>0.716326</td>\n",
              "      <td>40.389233</td>\n",
              "    </tr>\n",
              "  </tbody>\n",
              "</table>\n",
              "</div>\n",
              "      <button class=\"colab-df-convert\" onclick=\"convertToInteractive('df-6e52cff3-bd09-4c59-abb3-e2829b53df1f')\"\n",
              "              title=\"Convert this dataframe to an interactive table.\"\n",
              "              style=\"display:none;\">\n",
              "        \n",
              "  <svg xmlns=\"http://www.w3.org/2000/svg\" height=\"24px\"viewBox=\"0 0 24 24\"\n",
              "       width=\"24px\">\n",
              "    <path d=\"M0 0h24v24H0V0z\" fill=\"none\"/>\n",
              "    <path d=\"M18.56 5.44l.94 2.06.94-2.06 2.06-.94-2.06-.94-.94-2.06-.94 2.06-2.06.94zm-11 1L8.5 8.5l.94-2.06 2.06-.94-2.06-.94L8.5 2.5l-.94 2.06-2.06.94zm10 10l.94 2.06.94-2.06 2.06-.94-2.06-.94-.94-2.06-.94 2.06-2.06.94z\"/><path d=\"M17.41 7.96l-1.37-1.37c-.4-.4-.92-.59-1.43-.59-.52 0-1.04.2-1.43.59L10.3 9.45l-7.72 7.72c-.78.78-.78 2.05 0 2.83L4 21.41c.39.39.9.59 1.41.59.51 0 1.02-.2 1.41-.59l7.78-7.78 2.81-2.81c.8-.78.8-2.07 0-2.86zM5.41 20L4 18.59l7.72-7.72 1.47 1.35L5.41 20z\"/>\n",
              "  </svg>\n",
              "      </button>\n",
              "      \n",
              "  <style>\n",
              "    .colab-df-container {\n",
              "      display:flex;\n",
              "      flex-wrap:wrap;\n",
              "      gap: 12px;\n",
              "    }\n",
              "\n",
              "    .colab-df-convert {\n",
              "      background-color: #E8F0FE;\n",
              "      border: none;\n",
              "      border-radius: 50%;\n",
              "      cursor: pointer;\n",
              "      display: none;\n",
              "      fill: #1967D2;\n",
              "      height: 32px;\n",
              "      padding: 0 0 0 0;\n",
              "      width: 32px;\n",
              "    }\n",
              "\n",
              "    .colab-df-convert:hover {\n",
              "      background-color: #E2EBFA;\n",
              "      box-shadow: 0px 1px 2px rgba(60, 64, 67, 0.3), 0px 1px 3px 1px rgba(60, 64, 67, 0.15);\n",
              "      fill: #174EA6;\n",
              "    }\n",
              "\n",
              "    [theme=dark] .colab-df-convert {\n",
              "      background-color: #3B4455;\n",
              "      fill: #D2E3FC;\n",
              "    }\n",
              "\n",
              "    [theme=dark] .colab-df-convert:hover {\n",
              "      background-color: #434B5C;\n",
              "      box-shadow: 0px 1px 3px 1px rgba(0, 0, 0, 0.15);\n",
              "      filter: drop-shadow(0px 1px 2px rgba(0, 0, 0, 0.3));\n",
              "      fill: #FFFFFF;\n",
              "    }\n",
              "  </style>\n",
              "\n",
              "      <script>\n",
              "        const buttonEl =\n",
              "          document.querySelector('#df-6e52cff3-bd09-4c59-abb3-e2829b53df1f button.colab-df-convert');\n",
              "        buttonEl.style.display =\n",
              "          google.colab.kernel.accessAllowed ? 'block' : 'none';\n",
              "\n",
              "        async function convertToInteractive(key) {\n",
              "          const element = document.querySelector('#df-6e52cff3-bd09-4c59-abb3-e2829b53df1f');\n",
              "          const dataTable =\n",
              "            await google.colab.kernel.invokeFunction('convertToInteractive',\n",
              "                                                     [key], {});\n",
              "          if (!dataTable) return;\n",
              "\n",
              "          const docLinkHtml = 'Like what you see? Visit the ' +\n",
              "            '<a target=\"_blank\" href=https://colab.research.google.com/notebooks/data_table.ipynb>data table notebook</a>'\n",
              "            + ' to learn more about interactive tables.';\n",
              "          element.innerHTML = '';\n",
              "          dataTable['output_type'] = 'display_data';\n",
              "          await google.colab.output.renderOutput(dataTable, element);\n",
              "          const docLink = document.createElement('div');\n",
              "          docLink.innerHTML = docLinkHtml;\n",
              "          element.appendChild(docLink);\n",
              "        }\n",
              "      </script>\n",
              "    </div>\n",
              "  </div>\n",
              "  "
            ]
          },
          "metadata": {},
          "execution_count": 29
        }
      ]
    },
    {
      "cell_type": "markdown",
      "source": [
        "# Bag of Words Bigram"
      ],
      "metadata": {
        "id": "6e1ka4ZUaX1Q"
      }
    },
    {
      "cell_type": "code",
      "source": [
        "start = time.time()\n",
        "count_vect = CountVectorizer(min_df=5, max_features=5000,ngram_range=(2,2))\n",
        "X= count_vect.fit_transform(input_data)\n",
        "X = X.toarray()\n",
        "print(\"X shape :\",X.shape)\n",
        "end = time.time()\n",
        "print(\"Execution time :\",(end-start))"
      ],
      "metadata": {
        "id": "T1pT9XtlaWaa",
        "colab": {
          "base_uri": "https://localhost:8080/"
        },
        "outputId": "e4aec4bf-d661-4c53-9e2e-75ff90ac632b"
      },
      "execution_count": 30,
      "outputs": [
        {
          "output_type": "stream",
          "name": "stdout",
          "text": [
            "X shape : (13586, 5000)\n",
            "Execution time : 6.158414840698242\n"
          ]
        }
      ]
    },
    {
      "cell_type": "code",
      "source": [
        "models =[GaussianNB(),MultinomialNB(), DecisionTreeClassifier(), LinearSVC()]\n",
        "\n",
        "names=['GaussianNB','MultinomialNB','DecisionTreeClassifier','LinearSVC']\n",
        "\n",
        "\n",
        "jacc_scores = []\n",
        "acc_scores = []\n",
        "f1_scores = []\n",
        "exec_times = []\n",
        "estimators = []\n",
        "\n",
        "for model, name in zip(models,names):\n",
        "    print(model)\n",
        "    start= time.time()\n",
        "    scoring ={\"acc\":'accuracy',\n",
        "             'f1_mac':'f1_macro',\n",
        "             'jacc_mac':'jaccard_macro'}\n",
        "    scores = cross_validate(model,X,y,cv=5, n_jobs=4,scoring=scoring, return_estimator=True)\n",
        "    training_time= (time.time()-start)\n",
        "    print(\"accuracy: \", scores['test_acc'].mean())\n",
        "    print(\"f1_score: \", scores['test_f1_mac'].mean())\n",
        "    print(\"Jaccard_index: \", scores['test_jacc_mac'].mean())\n",
        "    print(\"time (sec): \", training_time)\n",
        "    print(\"\\n\")\n",
        "    jacc_scores.append(scores['test_jacc_mac'].mean())\n",
        "    acc_scores.append(scores['test_acc'].mean())\n",
        "    f1_scores.append(scores['test_f1_mac'].mean())\n",
        "    exec_times.append(training_time)\n",
        "    print(\"Estimator: \", type(scores['estimator']), scores['estimator'])\n",
        "    estimators.append(scores['estimator'])\n",
        "    \n",
        "    \n",
        "acc_df['BoWBi'] = acc_scores\n",
        "f1_df['BoWBi'] =f1_scores\n",
        "jac_df['BoWBi'] =jacc_scores\n",
        "estimator_df['BoWBi'] = estimators\n",
        "acc_df['BoWBi_time'] = training_time\n",
        "\n",
        "acc_df"
      ],
      "metadata": {
        "id": "Wvigf_ONaSQo",
        "colab": {
          "base_uri": "https://localhost:8080/",
          "height": 766
        },
        "outputId": "14a1ee93-f250-48f0-91d9-b2d8ed5df350"
      },
      "execution_count": 31,
      "outputs": [
        {
          "output_type": "stream",
          "name": "stdout",
          "text": [
            "GaussianNB()\n",
            "accuracy:  0.5741205388469244\n",
            "f1_score:  0.5531704529630934\n",
            "Jaccard_index:  0.39584816767646086\n",
            "time (sec):  17.054582118988037\n",
            "\n",
            "\n",
            "Estimator:  <class 'list'> [GaussianNB(), GaussianNB(), GaussianNB(), GaussianNB(), GaussianNB()]\n",
            "MultinomialNB()\n",
            "accuracy:  0.6235102452251284\n",
            "f1_score:  0.6041764725559157\n",
            "Jaccard_index:  0.45575511615901265\n",
            "time (sec):  46.43130564689636\n",
            "\n",
            "\n",
            "Estimator:  <class 'list'> [MultinomialNB(), MultinomialNB(), MultinomialNB(), MultinomialNB(), MultinomialNB()]\n",
            "DecisionTreeClassifier()\n",
            "accuracy:  0.5744900543088065\n",
            "f1_score:  0.562630778689734\n",
            "Jaccard_index:  0.41238226582720844\n",
            "time (sec):  233.63268423080444\n",
            "\n",
            "\n",
            "Estimator:  <class 'list'> [DecisionTreeClassifier(), DecisionTreeClassifier(), DecisionTreeClassifier(), DecisionTreeClassifier(), DecisionTreeClassifier()]\n",
            "LinearSVC()\n",
            "accuracy:  0.6187991397472052\n",
            "f1_score:  0.6059513636599976\n",
            "Jaccard_index:  0.45511254094764997\n",
            "time (sec):  26.55026149749756\n",
            "\n",
            "\n",
            "Estimator:  <class 'list'> [LinearSVC(), LinearSVC(), LinearSVC(), LinearSVC(), LinearSVC()]\n"
          ]
        },
        {
          "output_type": "execute_result",
          "data": {
            "text/plain": [
              "        Algorithm       BoW   BoW_time     BoWBi  BoWBi_time\n",
              "0     Gaussian NB  0.566834  40.389233  0.574121   26.550261\n",
              "1  Multinomial NB  0.727884  40.389233  0.623510   26.550261\n",
              "2   Decision Tree  0.640072  40.389233  0.574490   26.550261\n",
              "3             SVM  0.716326  40.389233  0.618799   26.550261"
            ],
            "text/html": [
              "\n",
              "  <div id=\"df-9f131c1e-5a0c-4249-a776-8fc53b617f8f\">\n",
              "    <div class=\"colab-df-container\">\n",
              "      <div>\n",
              "<style scoped>\n",
              "    .dataframe tbody tr th:only-of-type {\n",
              "        vertical-align: middle;\n",
              "    }\n",
              "\n",
              "    .dataframe tbody tr th {\n",
              "        vertical-align: top;\n",
              "    }\n",
              "\n",
              "    .dataframe thead th {\n",
              "        text-align: right;\n",
              "    }\n",
              "</style>\n",
              "<table border=\"1\" class=\"dataframe\">\n",
              "  <thead>\n",
              "    <tr style=\"text-align: right;\">\n",
              "      <th></th>\n",
              "      <th>Algorithm</th>\n",
              "      <th>BoW</th>\n",
              "      <th>BoW_time</th>\n",
              "      <th>BoWBi</th>\n",
              "      <th>BoWBi_time</th>\n",
              "    </tr>\n",
              "  </thead>\n",
              "  <tbody>\n",
              "    <tr>\n",
              "      <th>0</th>\n",
              "      <td>Gaussian NB</td>\n",
              "      <td>0.566834</td>\n",
              "      <td>40.389233</td>\n",
              "      <td>0.574121</td>\n",
              "      <td>26.550261</td>\n",
              "    </tr>\n",
              "    <tr>\n",
              "      <th>1</th>\n",
              "      <td>Multinomial NB</td>\n",
              "      <td>0.727884</td>\n",
              "      <td>40.389233</td>\n",
              "      <td>0.623510</td>\n",
              "      <td>26.550261</td>\n",
              "    </tr>\n",
              "    <tr>\n",
              "      <th>2</th>\n",
              "      <td>Decision Tree</td>\n",
              "      <td>0.640072</td>\n",
              "      <td>40.389233</td>\n",
              "      <td>0.574490</td>\n",
              "      <td>26.550261</td>\n",
              "    </tr>\n",
              "    <tr>\n",
              "      <th>3</th>\n",
              "      <td>SVM</td>\n",
              "      <td>0.716326</td>\n",
              "      <td>40.389233</td>\n",
              "      <td>0.618799</td>\n",
              "      <td>26.550261</td>\n",
              "    </tr>\n",
              "  </tbody>\n",
              "</table>\n",
              "</div>\n",
              "      <button class=\"colab-df-convert\" onclick=\"convertToInteractive('df-9f131c1e-5a0c-4249-a776-8fc53b617f8f')\"\n",
              "              title=\"Convert this dataframe to an interactive table.\"\n",
              "              style=\"display:none;\">\n",
              "        \n",
              "  <svg xmlns=\"http://www.w3.org/2000/svg\" height=\"24px\"viewBox=\"0 0 24 24\"\n",
              "       width=\"24px\">\n",
              "    <path d=\"M0 0h24v24H0V0z\" fill=\"none\"/>\n",
              "    <path d=\"M18.56 5.44l.94 2.06.94-2.06 2.06-.94-2.06-.94-.94-2.06-.94 2.06-2.06.94zm-11 1L8.5 8.5l.94-2.06 2.06-.94-2.06-.94L8.5 2.5l-.94 2.06-2.06.94zm10 10l.94 2.06.94-2.06 2.06-.94-2.06-.94-.94-2.06-.94 2.06-2.06.94z\"/><path d=\"M17.41 7.96l-1.37-1.37c-.4-.4-.92-.59-1.43-.59-.52 0-1.04.2-1.43.59L10.3 9.45l-7.72 7.72c-.78.78-.78 2.05 0 2.83L4 21.41c.39.39.9.59 1.41.59.51 0 1.02-.2 1.41-.59l7.78-7.78 2.81-2.81c.8-.78.8-2.07 0-2.86zM5.41 20L4 18.59l7.72-7.72 1.47 1.35L5.41 20z\"/>\n",
              "  </svg>\n",
              "      </button>\n",
              "      \n",
              "  <style>\n",
              "    .colab-df-container {\n",
              "      display:flex;\n",
              "      flex-wrap:wrap;\n",
              "      gap: 12px;\n",
              "    }\n",
              "\n",
              "    .colab-df-convert {\n",
              "      background-color: #E8F0FE;\n",
              "      border: none;\n",
              "      border-radius: 50%;\n",
              "      cursor: pointer;\n",
              "      display: none;\n",
              "      fill: #1967D2;\n",
              "      height: 32px;\n",
              "      padding: 0 0 0 0;\n",
              "      width: 32px;\n",
              "    }\n",
              "\n",
              "    .colab-df-convert:hover {\n",
              "      background-color: #E2EBFA;\n",
              "      box-shadow: 0px 1px 2px rgba(60, 64, 67, 0.3), 0px 1px 3px 1px rgba(60, 64, 67, 0.15);\n",
              "      fill: #174EA6;\n",
              "    }\n",
              "\n",
              "    [theme=dark] .colab-df-convert {\n",
              "      background-color: #3B4455;\n",
              "      fill: #D2E3FC;\n",
              "    }\n",
              "\n",
              "    [theme=dark] .colab-df-convert:hover {\n",
              "      background-color: #434B5C;\n",
              "      box-shadow: 0px 1px 3px 1px rgba(0, 0, 0, 0.15);\n",
              "      filter: drop-shadow(0px 1px 2px rgba(0, 0, 0, 0.3));\n",
              "      fill: #FFFFFF;\n",
              "    }\n",
              "  </style>\n",
              "\n",
              "      <script>\n",
              "        const buttonEl =\n",
              "          document.querySelector('#df-9f131c1e-5a0c-4249-a776-8fc53b617f8f button.colab-df-convert');\n",
              "        buttonEl.style.display =\n",
              "          google.colab.kernel.accessAllowed ? 'block' : 'none';\n",
              "\n",
              "        async function convertToInteractive(key) {\n",
              "          const element = document.querySelector('#df-9f131c1e-5a0c-4249-a776-8fc53b617f8f');\n",
              "          const dataTable =\n",
              "            await google.colab.kernel.invokeFunction('convertToInteractive',\n",
              "                                                     [key], {});\n",
              "          if (!dataTable) return;\n",
              "\n",
              "          const docLinkHtml = 'Like what you see? Visit the ' +\n",
              "            '<a target=\"_blank\" href=https://colab.research.google.com/notebooks/data_table.ipynb>data table notebook</a>'\n",
              "            + ' to learn more about interactive tables.';\n",
              "          element.innerHTML = '';\n",
              "          dataTable['output_type'] = 'display_data';\n",
              "          await google.colab.output.renderOutput(dataTable, element);\n",
              "          const docLink = document.createElement('div');\n",
              "          docLink.innerHTML = docLinkHtml;\n",
              "          element.appendChild(docLink);\n",
              "        }\n",
              "      </script>\n",
              "    </div>\n",
              "  </div>\n",
              "  "
            ]
          },
          "metadata": {},
          "execution_count": 31
        }
      ]
    },
    {
      "cell_type": "markdown",
      "source": [
        "# TFIDF"
      ],
      "metadata": {
        "id": "pQNdxOfoadFK"
      }
    },
    {
      "cell_type": "code",
      "source": [
        "start= time.time()\n",
        "tfidf= TfidfVectorizer(min_df=5,max_features=5000)\n",
        "X = tfidf.fit_transform(input_data)\n",
        "X= X.toarray()\n",
        "print(\"X shape :\",X.shape)\n",
        "end = time.time()\n",
        "print(\"execution time :\",(end-start))"
      ],
      "metadata": {
        "id": "jRqJpf_AaSTe",
        "colab": {
          "base_uri": "https://localhost:8080/"
        },
        "outputId": "70ee2013-df26-4fe5-f30d-ac32dbf96503"
      },
      "execution_count": 32,
      "outputs": [
        {
          "output_type": "stream",
          "name": "stdout",
          "text": [
            "X shape : (13586, 5000)\n",
            "execution time : 2.5676565170288086\n"
          ]
        }
      ]
    },
    {
      "cell_type": "code",
      "source": [
        "models =[GaussianNB(),MultinomialNB(), DecisionTreeClassifier(), LinearSVC()]\n",
        "\n",
        "names=['GaussianNB','MultinomialNB','DecisionTreeClassifier','LinearSVC']\n",
        "\n",
        "\n",
        "jacc_scores = []\n",
        "acc_scores = []\n",
        "f1_scores = []\n",
        "exec_times = []\n",
        "estimators = []\n",
        "\n",
        "for model, name in zip(models,names):\n",
        "    print(model)\n",
        "    start= time.time()\n",
        "    scoring ={\"acc\":'accuracy',\n",
        "             'f1_mac':'f1_macro',\n",
        "             'jacc_mac':'jaccard_macro'}\n",
        "    scores = cross_validate(model,X,y,cv=5, n_jobs=4,scoring=scoring, return_estimator=True)\n",
        "    training_time= (time.time()-start)\n",
        "    print(\"accuracy: \", scores['test_acc'].mean())\n",
        "    print(\"f1_score: \", scores['test_f1_mac'].mean())\n",
        "    print(\"Jaccard_index: \", scores['test_jacc_mac'].mean())\n",
        "    print(\"time (sec): \", training_time)\n",
        "    print(\"\\n\")\n",
        "    jacc_scores.append(scores['test_jacc_mac'].mean())\n",
        "    acc_scores.append(scores['test_acc'].mean())\n",
        "    f1_scores.append(scores['test_f1_mac'].mean())\n",
        "    exec_times.append(training_time)\n",
        "    print(\"Estimator: \", type(scores['estimator']), scores['estimator'])\n",
        "    estimators.append(scores['estimator'])\n",
        "    \n",
        "acc_df['tfidf'] = acc_scores\n",
        "f1_df['tfidf'] =f1_scores\n",
        "jac_df['tfidf'] =jacc_scores\n",
        "estimator_df['tfidf'] = estimators\n",
        "acc_df['tfidf_timing'] = training_time\n",
        "acc_df"
      ],
      "metadata": {
        "id": "9Iupqe_YaSWF",
        "colab": {
          "base_uri": "https://localhost:8080/",
          "height": 862
        },
        "outputId": "8bb445f4-f2bf-49db-f309-06929e055a95"
      },
      "execution_count": 33,
      "outputs": [
        {
          "output_type": "stream",
          "name": "stdout",
          "text": [
            "GaussianNB()\n",
            "accuracy:  0.5836893751846698\n",
            "f1_score:  0.5630253882669244\n",
            "Jaccard_index:  0.4115797560251563\n",
            "time (sec):  18.5907084941864\n",
            "\n",
            "\n",
            "Estimator:  <class 'list'> [GaussianNB(), GaussianNB(), GaussianNB(), GaussianNB(), GaussianNB()]\n",
            "MultinomialNB()\n",
            "accuracy:  0.72302468067543\n",
            "f1_score:  0.6815725509632343\n",
            "Jaccard_index:  0.5508293556366095\n",
            "time (sec):  3.643803834915161\n",
            "\n",
            "\n",
            "Estimator:  <class 'list'> [MultinomialNB(), MultinomialNB(), MultinomialNB(), MultinomialNB(), MultinomialNB()]\n",
            "DecisionTreeClassifier()\n",
            "accuracy:  0.6374959883847999\n",
            "f1_score:  0.6209855262382802\n",
            "Jaccard_index:  0.4697991480621832\n",
            "time (sec):  107.30777287483215\n",
            "\n",
            "\n",
            "Estimator:  <class 'list'> [DecisionTreeClassifier(), DecisionTreeClassifier(), DecisionTreeClassifier(), DecisionTreeClassifier(), DecisionTreeClassifier()]\n",
            "LinearSVC()\n",
            "accuracy:  0.7836020066065379\n",
            "f1_score:  0.7668982829267701\n",
            "Jaccard_index:  0.6454489354776655\n",
            "time (sec):  8.871842861175537\n",
            "\n",
            "\n",
            "Estimator:  <class 'list'> [LinearSVC(), LinearSVC(), LinearSVC(), LinearSVC(), LinearSVC()]\n"
          ]
        },
        {
          "output_type": "execute_result",
          "data": {
            "text/plain": [
              "        Algorithm       BoW   BoW_time     BoWBi  BoWBi_time     tdidf  \\\n",
              "0     Gaussian NB  0.566834  40.389233  0.574121   26.550261  0.583689   \n",
              "1  Multinomial NB  0.727884  40.389233  0.623510   26.550261  0.723025   \n",
              "2   Decision Tree  0.640072  40.389233  0.574490   26.550261  0.637496   \n",
              "3             SVM  0.716326  40.389233  0.618799   26.550261  0.783602   \n",
              "\n",
              "   tdidf_timing  \n",
              "0      8.871843  \n",
              "1      8.871843  \n",
              "2      8.871843  \n",
              "3      8.871843  "
            ],
            "text/html": [
              "\n",
              "  <div id=\"df-14c2f451-c7cd-4728-9a96-32c2d9617911\">\n",
              "    <div class=\"colab-df-container\">\n",
              "      <div>\n",
              "<style scoped>\n",
              "    .dataframe tbody tr th:only-of-type {\n",
              "        vertical-align: middle;\n",
              "    }\n",
              "\n",
              "    .dataframe tbody tr th {\n",
              "        vertical-align: top;\n",
              "    }\n",
              "\n",
              "    .dataframe thead th {\n",
              "        text-align: right;\n",
              "    }\n",
              "</style>\n",
              "<table border=\"1\" class=\"dataframe\">\n",
              "  <thead>\n",
              "    <tr style=\"text-align: right;\">\n",
              "      <th></th>\n",
              "      <th>Algorithm</th>\n",
              "      <th>BoW</th>\n",
              "      <th>BoW_time</th>\n",
              "      <th>BoWBi</th>\n",
              "      <th>BoWBi_time</th>\n",
              "      <th>tdidf</th>\n",
              "      <th>tdidf_timing</th>\n",
              "    </tr>\n",
              "  </thead>\n",
              "  <tbody>\n",
              "    <tr>\n",
              "      <th>0</th>\n",
              "      <td>Gaussian NB</td>\n",
              "      <td>0.566834</td>\n",
              "      <td>40.389233</td>\n",
              "      <td>0.574121</td>\n",
              "      <td>26.550261</td>\n",
              "      <td>0.583689</td>\n",
              "      <td>8.871843</td>\n",
              "    </tr>\n",
              "    <tr>\n",
              "      <th>1</th>\n",
              "      <td>Multinomial NB</td>\n",
              "      <td>0.727884</td>\n",
              "      <td>40.389233</td>\n",
              "      <td>0.623510</td>\n",
              "      <td>26.550261</td>\n",
              "      <td>0.723025</td>\n",
              "      <td>8.871843</td>\n",
              "    </tr>\n",
              "    <tr>\n",
              "      <th>2</th>\n",
              "      <td>Decision Tree</td>\n",
              "      <td>0.640072</td>\n",
              "      <td>40.389233</td>\n",
              "      <td>0.574490</td>\n",
              "      <td>26.550261</td>\n",
              "      <td>0.637496</td>\n",
              "      <td>8.871843</td>\n",
              "    </tr>\n",
              "    <tr>\n",
              "      <th>3</th>\n",
              "      <td>SVM</td>\n",
              "      <td>0.716326</td>\n",
              "      <td>40.389233</td>\n",
              "      <td>0.618799</td>\n",
              "      <td>26.550261</td>\n",
              "      <td>0.783602</td>\n",
              "      <td>8.871843</td>\n",
              "    </tr>\n",
              "  </tbody>\n",
              "</table>\n",
              "</div>\n",
              "      <button class=\"colab-df-convert\" onclick=\"convertToInteractive('df-14c2f451-c7cd-4728-9a96-32c2d9617911')\"\n",
              "              title=\"Convert this dataframe to an interactive table.\"\n",
              "              style=\"display:none;\">\n",
              "        \n",
              "  <svg xmlns=\"http://www.w3.org/2000/svg\" height=\"24px\"viewBox=\"0 0 24 24\"\n",
              "       width=\"24px\">\n",
              "    <path d=\"M0 0h24v24H0V0z\" fill=\"none\"/>\n",
              "    <path d=\"M18.56 5.44l.94 2.06.94-2.06 2.06-.94-2.06-.94-.94-2.06-.94 2.06-2.06.94zm-11 1L8.5 8.5l.94-2.06 2.06-.94-2.06-.94L8.5 2.5l-.94 2.06-2.06.94zm10 10l.94 2.06.94-2.06 2.06-.94-2.06-.94-.94-2.06-.94 2.06-2.06.94z\"/><path d=\"M17.41 7.96l-1.37-1.37c-.4-.4-.92-.59-1.43-.59-.52 0-1.04.2-1.43.59L10.3 9.45l-7.72 7.72c-.78.78-.78 2.05 0 2.83L4 21.41c.39.39.9.59 1.41.59.51 0 1.02-.2 1.41-.59l7.78-7.78 2.81-2.81c.8-.78.8-2.07 0-2.86zM5.41 20L4 18.59l7.72-7.72 1.47 1.35L5.41 20z\"/>\n",
              "  </svg>\n",
              "      </button>\n",
              "      \n",
              "  <style>\n",
              "    .colab-df-container {\n",
              "      display:flex;\n",
              "      flex-wrap:wrap;\n",
              "      gap: 12px;\n",
              "    }\n",
              "\n",
              "    .colab-df-convert {\n",
              "      background-color: #E8F0FE;\n",
              "      border: none;\n",
              "      border-radius: 50%;\n",
              "      cursor: pointer;\n",
              "      display: none;\n",
              "      fill: #1967D2;\n",
              "      height: 32px;\n",
              "      padding: 0 0 0 0;\n",
              "      width: 32px;\n",
              "    }\n",
              "\n",
              "    .colab-df-convert:hover {\n",
              "      background-color: #E2EBFA;\n",
              "      box-shadow: 0px 1px 2px rgba(60, 64, 67, 0.3), 0px 1px 3px 1px rgba(60, 64, 67, 0.15);\n",
              "      fill: #174EA6;\n",
              "    }\n",
              "\n",
              "    [theme=dark] .colab-df-convert {\n",
              "      background-color: #3B4455;\n",
              "      fill: #D2E3FC;\n",
              "    }\n",
              "\n",
              "    [theme=dark] .colab-df-convert:hover {\n",
              "      background-color: #434B5C;\n",
              "      box-shadow: 0px 1px 3px 1px rgba(0, 0, 0, 0.15);\n",
              "      filter: drop-shadow(0px 1px 2px rgba(0, 0, 0, 0.3));\n",
              "      fill: #FFFFFF;\n",
              "    }\n",
              "  </style>\n",
              "\n",
              "      <script>\n",
              "        const buttonEl =\n",
              "          document.querySelector('#df-14c2f451-c7cd-4728-9a96-32c2d9617911 button.colab-df-convert');\n",
              "        buttonEl.style.display =\n",
              "          google.colab.kernel.accessAllowed ? 'block' : 'none';\n",
              "\n",
              "        async function convertToInteractive(key) {\n",
              "          const element = document.querySelector('#df-14c2f451-c7cd-4728-9a96-32c2d9617911');\n",
              "          const dataTable =\n",
              "            await google.colab.kernel.invokeFunction('convertToInteractive',\n",
              "                                                     [key], {});\n",
              "          if (!dataTable) return;\n",
              "\n",
              "          const docLinkHtml = 'Like what you see? Visit the ' +\n",
              "            '<a target=\"_blank\" href=https://colab.research.google.com/notebooks/data_table.ipynb>data table notebook</a>'\n",
              "            + ' to learn more about interactive tables.';\n",
              "          element.innerHTML = '';\n",
              "          dataTable['output_type'] = 'display_data';\n",
              "          await google.colab.output.renderOutput(dataTable, element);\n",
              "          const docLink = document.createElement('div');\n",
              "          docLink.innerHTML = docLinkHtml;\n",
              "          element.appendChild(docLink);\n",
              "        }\n",
              "      </script>\n",
              "    </div>\n",
              "  </div>\n",
              "  "
            ]
          },
          "metadata": {},
          "execution_count": 33
        }
      ]
    },
    {
      "cell_type": "markdown",
      "source": [
        "# Bag of Words Multinomial NB performed best, lets fit that model"
      ],
      "metadata": {
        "id": "tkTqDWNPrCDH"
      }
    },
    {
      "cell_type": "code",
      "source": [
        "start= time.time()\n",
        "tfidf= TfidfVectorizer(min_df=5,max_features=5000)\n",
        "X = tfidf.fit_transform(input_data)\n",
        "X= X.toarray()\n",
        "print(\"X shape :\",X.shape)\n",
        "end = time.time()\n",
        "print(\"execution time :\",(end-start))"
      ],
      "metadata": {
        "colab": {
          "base_uri": "https://localhost:8080/"
        },
        "id": "PsaZDP9RqIpd",
        "outputId": "9082713a-7d98-42aa-f746-e0203c96eb11"
      },
      "execution_count": 61,
      "outputs": [
        {
          "output_type": "stream",
          "name": "stdout",
          "text": [
            "X shape : (13586, 5000)\n",
            "execution time : 3.406904458999634\n"
          ]
        }
      ]
    },
    {
      "cell_type": "code",
      "source": [
        "#start= time.time()\n",
        "#X= X.toarray()\n",
        "#print(\"X shape : \",X.shape)\n",
        "#end= time.time()\n",
        "#print(\"Execution time :\",(end-start))"
      ],
      "metadata": {
        "colab": {
          "base_uri": "https://localhost:8080/"
        },
        "id": "rfZw19GsqPVF",
        "outputId": "41a7ea3b-772b-4c94-bd13-6af52ef3354f"
      },
      "execution_count": 35,
      "outputs": [
        {
          "output_type": "stream",
          "name": "stdout",
          "text": [
            "X shape :  (13586, 5000)\n",
            "Execution time : 0.5003066062927246\n"
          ]
        }
      ]
    },
    {
      "cell_type": "code",
      "source": [
        "models[3].fit(X, y)"
      ],
      "metadata": {
        "colab": {
          "base_uri": "https://localhost:8080/",
          "height": 75
        },
        "id": "aIUhP1LpqP28",
        "outputId": "08f45759-3d6b-44fa-c018-28c323a2c594"
      },
      "execution_count": 63,
      "outputs": [
        {
          "output_type": "execute_result",
          "data": {
            "text/plain": [
              "LinearSVC()"
            ],
            "text/html": [
              "<style>#sk-container-id-4 {color: black;background-color: white;}#sk-container-id-4 pre{padding: 0;}#sk-container-id-4 div.sk-toggleable {background-color: white;}#sk-container-id-4 label.sk-toggleable__label {cursor: pointer;display: block;width: 100%;margin-bottom: 0;padding: 0.3em;box-sizing: border-box;text-align: center;}#sk-container-id-4 label.sk-toggleable__label-arrow:before {content: \"▸\";float: left;margin-right: 0.25em;color: #696969;}#sk-container-id-4 label.sk-toggleable__label-arrow:hover:before {color: black;}#sk-container-id-4 div.sk-estimator:hover label.sk-toggleable__label-arrow:before {color: black;}#sk-container-id-4 div.sk-toggleable__content {max-height: 0;max-width: 0;overflow: hidden;text-align: left;background-color: #f0f8ff;}#sk-container-id-4 div.sk-toggleable__content pre {margin: 0.2em;color: black;border-radius: 0.25em;background-color: #f0f8ff;}#sk-container-id-4 input.sk-toggleable__control:checked~div.sk-toggleable__content {max-height: 200px;max-width: 100%;overflow: auto;}#sk-container-id-4 input.sk-toggleable__control:checked~label.sk-toggleable__label-arrow:before {content: \"▾\";}#sk-container-id-4 div.sk-estimator input.sk-toggleable__control:checked~label.sk-toggleable__label {background-color: #d4ebff;}#sk-container-id-4 div.sk-label input.sk-toggleable__control:checked~label.sk-toggleable__label {background-color: #d4ebff;}#sk-container-id-4 input.sk-hidden--visually {border: 0;clip: rect(1px 1px 1px 1px);clip: rect(1px, 1px, 1px, 1px);height: 1px;margin: -1px;overflow: hidden;padding: 0;position: absolute;width: 1px;}#sk-container-id-4 div.sk-estimator {font-family: monospace;background-color: #f0f8ff;border: 1px dotted black;border-radius: 0.25em;box-sizing: border-box;margin-bottom: 0.5em;}#sk-container-id-4 div.sk-estimator:hover {background-color: #d4ebff;}#sk-container-id-4 div.sk-parallel-item::after {content: \"\";width: 100%;border-bottom: 1px solid gray;flex-grow: 1;}#sk-container-id-4 div.sk-label:hover label.sk-toggleable__label {background-color: #d4ebff;}#sk-container-id-4 div.sk-serial::before {content: \"\";position: absolute;border-left: 1px solid gray;box-sizing: border-box;top: 0;bottom: 0;left: 50%;z-index: 0;}#sk-container-id-4 div.sk-serial {display: flex;flex-direction: column;align-items: center;background-color: white;padding-right: 0.2em;padding-left: 0.2em;position: relative;}#sk-container-id-4 div.sk-item {position: relative;z-index: 1;}#sk-container-id-4 div.sk-parallel {display: flex;align-items: stretch;justify-content: center;background-color: white;position: relative;}#sk-container-id-4 div.sk-item::before, #sk-container-id-4 div.sk-parallel-item::before {content: \"\";position: absolute;border-left: 1px solid gray;box-sizing: border-box;top: 0;bottom: 0;left: 50%;z-index: -1;}#sk-container-id-4 div.sk-parallel-item {display: flex;flex-direction: column;z-index: 1;position: relative;background-color: white;}#sk-container-id-4 div.sk-parallel-item:first-child::after {align-self: flex-end;width: 50%;}#sk-container-id-4 div.sk-parallel-item:last-child::after {align-self: flex-start;width: 50%;}#sk-container-id-4 div.sk-parallel-item:only-child::after {width: 0;}#sk-container-id-4 div.sk-dashed-wrapped {border: 1px dashed gray;margin: 0 0.4em 0.5em 0.4em;box-sizing: border-box;padding-bottom: 0.4em;background-color: white;}#sk-container-id-4 div.sk-label label {font-family: monospace;font-weight: bold;display: inline-block;line-height: 1.2em;}#sk-container-id-4 div.sk-label-container {text-align: center;}#sk-container-id-4 div.sk-container {/* jupyter's `normalize.less` sets `[hidden] { display: none; }` but bootstrap.min.css set `[hidden] { display: none !important; }` so we also need the `!important` here to be able to override the default hidden behavior on the sphinx rendered scikit-learn.org. See: https://github.com/scikit-learn/scikit-learn/issues/21755 */display: inline-block !important;position: relative;}#sk-container-id-4 div.sk-text-repr-fallback {display: none;}</style><div id=\"sk-container-id-4\" class=\"sk-top-container\"><div class=\"sk-text-repr-fallback\"><pre>LinearSVC()</pre><b>In a Jupyter environment, please rerun this cell to show the HTML representation or trust the notebook. <br />On GitHub, the HTML representation is unable to render, please try loading this page with nbviewer.org.</b></div><div class=\"sk-container\" hidden><div class=\"sk-item\"><div class=\"sk-estimator sk-toggleable\"><input class=\"sk-toggleable__control sk-hidden--visually\" id=\"sk-estimator-id-4\" type=\"checkbox\" checked><label for=\"sk-estimator-id-4\" class=\"sk-toggleable__label sk-toggleable__label-arrow\">LinearSVC</label><div class=\"sk-toggleable__content\"><pre>LinearSVC()</pre></div></div></div></div></div>"
            ]
          },
          "metadata": {},
          "execution_count": 63
        }
      ]
    },
    {
      "cell_type": "markdown",
      "source": [
        "# Set up IMAP to interact with Outlook account"
      ],
      "metadata": {
        "id": "m6ThuEZHajrm"
      }
    },
    {
      "cell_type": "code",
      "source": [
        "#input = []\n",
        "#input.append('California california los angeles orange county')\n",
        "#X = count_vect.transform(input)\n",
        "#X = X.toarray()\n",
        "##print(type(models[1].predict(X)))\n",
        "#pred_category = categories[models[1].predict(X)[0]]"
      ],
      "metadata": {
        "id": "l83wTRp9qUeM"
      },
      "execution_count": 64,
      "outputs": []
    },
    {
      "cell_type": "code",
      "source": [
        "# account credentials\n",
        "username = \"Your_email_address\"\n",
        "password = \"Your_password\"\n",
        "# use your email provider's IMAP server, you can look for your provider's IMAP server on Google\n",
        "# or check this page: https://www.systoolsgroup.com/imap/\n",
        "# for office 365, it's this:\n",
        "imap_server = \"imap-mail.outlook.com\"\n",
        "\n",
        "def clean(text):\n",
        "    # clean text for creating a folder\n",
        "    return \"\".join(c if c.isalnum() else \"_\" for c in text)"
      ],
      "metadata": {
        "id": "PPIduSX4a5La"
      },
      "execution_count": 65,
      "outputs": []
    },
    {
      "cell_type": "code",
      "source": [
        "# create an IMAP4 class with SSL \n",
        "imap = imaplib.IMAP4_SSL(imap_server)\n",
        "# authenticate\n",
        "imap.login(username, password)"
      ],
      "metadata": {
        "id": "JIQ3-rDGa6Vr",
        "colab": {
          "base_uri": "https://localhost:8080/"
        },
        "outputId": "3a67d78a-03d7-44ad-8ce4-db117c7f16f7"
      },
      "execution_count": 66,
      "outputs": [
        {
          "output_type": "execute_result",
          "data": {
            "text/plain": [
              "('OK', [b'LOGIN completed.'])"
            ]
          },
          "metadata": {},
          "execution_count": 66
        }
      ]
    },
    {
      "cell_type": "code",
      "source": [
        "status, messages = imap.select(\"INBOX\")\n",
        "# number of top emails to fetch\n",
        "#N = int(messages[0])\n",
        "N = int(messages[0])\n",
        "# total number of emails\n",
        "messages = int(messages[0])\n",
        "\n",
        "# List containing subject, from, and body\n",
        "emailsList = []"
      ],
      "metadata": {
        "id": "7u-4WbvPa8CQ"
      },
      "execution_count": 67,
      "outputs": []
    },
    {
      "cell_type": "code",
      "source": [
        "def parse_uid(msg_data):\n",
        "    #print(type(msg_data))\n",
        "    pattern_uid = re.compile(r'\\d+ \\(UID (?P<uid>\\d+)\\)')\n",
        "    match = pattern_uid.match(msg_data)\n",
        "    return match.group('uid')"
      ],
      "metadata": {
        "id": "C2iyvszNa-ep"
      },
      "execution_count": 68,
      "outputs": []
    },
    {
      "cell_type": "code",
      "source": [
        "def get_uid_and_rfc822(folder):\n",
        "    imap.select(folder)\n",
        "    raw_emails = []\n",
        "\n",
        "    result, data = imap.uid('search', None, \"ALL\")\n",
        "    ids = data[0]\n",
        "    id_list = ids.split()\n",
        "\n",
        "    for i in id_list:\n",
        "        res, msg = imap.uid('fetch', i, '(RFC822)')\n",
        "        #raw_email = msg[0][1]\n",
        "        #raw_emails.append(raw_email)\n",
        "        for response in msg:\n",
        "                #rfc_string = response[0].decode()\n",
        "                #print(type(rfc_string))\n",
        "                if isinstance(response, tuple):\n",
        "\n",
        "                    # parse a bytes email into a message object\n",
        "                    msg = email.message_from_bytes(response[1])\n",
        "                    # decode the email subject\n",
        "                    subject, encoding = decode_header(msg[\"Subject\"])[0]\n",
        "                    if isinstance(subject, bytes):\n",
        "                        # if it's a bytes, decode to str\n",
        "                        subject = subject.decode(encoding)\n",
        "                    # decode email sender\n",
        "                    From, encoding = decode_header(msg.get(\"From\"))[0]\n",
        "                    if isinstance(From, bytes):\n",
        "                        From = From.decode(encoding)\n",
        "                    print(\"Subject:\", subject)\n",
        "                    print(\"From:\", From)\n",
        "                    # if the email message is multipart\n",
        "                    if msg.is_multipart():\n",
        "                        # iterate over email parts\n",
        "                        for part in msg.walk():\n",
        "                            # extract content type of email\n",
        "                            content_type = part.get_content_type()\n",
        "                            content_disposition = str(part.get(\"Content-Disposition\"))\n",
        "                            try:\n",
        "                                # get the email body\n",
        "                                body = part.get_payload(decode=True).decode()\n",
        "                            except:\n",
        "                                pass\n",
        "                            if content_type == \"text/plain\" and \"attachment\" not in content_disposition:\n",
        "                                # print text/plain emails and skip attachments\n",
        "                                #print(\"This is the plain body: \" + body)\n",
        "\n",
        "                                #print(\"Whats happening to the body??: \" + body)\n",
        "                                emailGroup = [i, subject, From, body]\n",
        "                                print('EMAIL GROUP', emailGroup)\n",
        "                                print(type(emailsList))\n",
        "                                emailsList.append(emailGroup)\n",
        "                            elif \"attachment\" in content_disposition:\n",
        "                                print('sad')\n",
        "                                # download attachment\n",
        "                                filename = part.get_filename()\n",
        "                                if filename:\n",
        "                                    folder_name = clean(subject)\n",
        "                                    if not os.path.isdir(folder_name):\n",
        "                                        # make a folder for this email (named after the subject)\n",
        "                                        os.mkdir(folder_name)\n",
        "                                    filepath = os.path.join(folder_name, filename)\n",
        "                                    # download attachment and save it\n",
        "                                    open(filepath, \"wb\").write(part.get_payload(decode=True))\n",
        "                    else:\n",
        "                        # extract content type of email\n",
        "                        content_type = msg.get_content_type()\n",
        "                        # get the email body\n",
        "                        body = msg.get_payload(decode=True).decode()\n",
        "                        if content_type == \"text/plain\":\n",
        "                            # print only text email parts\n",
        "                            print(body)\n",
        "                    print(\"=\"*100)\n",
        "\n",
        "            #return id_list, raw_emails\n",
        "            "
      ],
      "metadata": {
        "id": "Ot3z24Q-a_8w"
      },
      "execution_count": 69,
      "outputs": []
    },
    {
      "cell_type": "code",
      "source": [
        "get_uid_and_rfc822('Inbox')"
      ],
      "metadata": {
        "id": "SbXN7jMAaSY-",
        "colab": {
          "base_uri": "https://localhost:8080/"
        },
        "outputId": "6706169e-d695-4432-b9fe-65be6ee534f0"
      },
      "execution_count": 70,
      "outputs": [
        {
          "output_type": "stream",
          "name": "stdout",
          "text": [
            "Subject: Bill Williams III\n",
            "From: Stephen L <stephen.lanna1994@gmail.com>\n",
            "EMAIL GROUP [b'85', 'Bill Williams III', 'Stephen L <stephen.lanna1994@gmail.com>', 'Invitation to attend a talk by Bill Williams III\\r\\n']\n",
            "<class 'list'>\n",
            "====================================================================================================\n",
            "Subject: Online Trading\n",
            "From: Stephen L <stephen.lanna1994@gmail.com>\n",
            "EMAIL GROUP [b'106', 'Online Trading', 'Stephen L <stephen.lanna1994@gmail.com>', 'Invitation to an online trading seminar\\r\\n']\n",
            "<class 'list'>\n",
            "====================================================================================================\n",
            "Subject: Archives\n",
            "From: Stephen L <stephen.lanna1994@gmail.com>\n",
            "EMAIL GROUP [b'129', 'Archives', 'Stephen L <stephen.lanna1994@gmail.com>', 'Request for access to archived material\\r\\n']\n",
            "<class 'list'>\n",
            "====================================================================================================\n",
            "Subject: Resumes\n",
            "From: Stephen L <stephen.lanna1994@gmail.com>\n",
            "EMAIL GROUP [b'130', 'Resumes', 'Stephen L <stephen.lanna1994@gmail.com>', 'Request for review of resumes\\r\\n']\n",
            "<class 'list'>\n",
            "====================================================================================================\n",
            "Subject: Junk\n",
            "From: Stephen L <stephen.lanna1994@gmail.com>\n",
            "EMAIL GROUP [b'131', 'Junk', 'Stephen L <stephen.lanna1994@gmail.com>', 'Warning about a potential junk email\\r\\n']\n",
            "<class 'list'>\n",
            "====================================================================================================\n",
            "Subject: Corporate\n",
            "From: Stephen L <stephen.lanna1994@gmail.com>\n",
            "EMAIL GROUP [b'132', 'Corporate', 'Stephen L <stephen.lanna1994@gmail.com>', 'Invitation to a corporate event\\r\\n']\n",
            "<class 'list'>\n",
            "====================================================================================================\n",
            "Subject: Management\n",
            "From: Stephen L <stephen.lanna1994@gmail.com>\n",
            "EMAIL GROUP [b'133', 'Management', 'Stephen L <stephen.lanna1994@gmail.com>', 'Email regarding upcoming management training\\r\\n']\n",
            "<class 'list'>\n",
            "====================================================================================================\n",
            "Subject: Projects\n",
            "From: Stephen L <stephen.lanna1994@gmail.com>\n",
            "EMAIL GROUP [b'134', 'Projects', 'Stephen L <stephen.lanna1994@gmail.com>', 'Invitation to a project launch event\\r\\n']\n",
            "<class 'list'>\n",
            "====================================================================================================\n",
            "Subject: Logistics\n",
            "From: Stephen L <stephen.lanna1994@gmail.com>\n",
            "EMAIL GROUP [b'135', 'Logistics', 'Stephen L <stephen.lanna1994@gmail.com>', 'Email regarding logistics for shipping goods\\r\\n']\n",
            "<class 'list'>\n",
            "====================================================================================================\n",
            "Subject: Archives\n",
            "From: Stephen L <stephen.lanna1994@gmail.com>\n",
            "EMAIL GROUP [b'136', 'Archives', 'Stephen L <stephen.lanna1994@gmail.com>', 'Notification of new material added to the archives\\r\\n']\n",
            "<class 'list'>\n",
            "====================================================================================================\n",
            "Subject: California\n",
            "From: Stephen L <stephen.lanna1994@gmail.com>\n",
            "EMAIL GROUP [b'137', 'California', 'Stephen L <stephen.lanna1994@gmail.com>', 'Email regarding upcoming events in California\\r\\n']\n",
            "<class 'list'>\n",
            "====================================================================================================\n",
            "Subject: Congratulations, You Have Won\n",
            "From: Stephen L <stephen.lanna1994@gmail.com>\n",
            "EMAIL GROUP [b'138', 'Congratulations, You Have Won', 'Stephen L <stephen.lanna1994@gmail.com>', 'Youve won something! give me your credit card info\\r\\n']\n",
            "<class 'list'>\n",
            "====================================================================================================\n",
            "Subject: Project\n",
            "From: Stephen L <stephen.lanna1994@gmail.com>\n",
            "EMAIL GROUP [b'139', 'Project', 'Stephen L <stephen.lanna1994@gmail.com>', 'A *project* is any undertaking, carried out individually or collaboratively\\r\\nand possibly involving research or design, that is carefully planned\\r\\n<https://en.wikipedia.org/wiki/Plan> to achieve a particular goal.[1]\\r\\n<https://en.wikipedia.org/wiki/Project#cite_note-1>\\r\\n\\r\\nAn alternative view sees a project managerially\\r\\n<https://en.wikipedia.org/wiki/Managerialism> as a sequence of events: a\\r\\n\"set of interrelated tasks to be executed over a fixed period and within\\r\\ncertain cost and other limitations\".[2]\\r\\n<https://en.wikipedia.org/wiki/Project#cite_note-2>\\r\\n\\r\\nA project may be a temporary (rather than a permanent) social system\\r\\n<https://en.wikipedia.org/wiki/Social_system> (work system\\r\\n<https://en.wikipedia.org/wiki/Work_systems>), possibly staffed by teams\\r\\n<https://en.wikipedia.org/wiki/Team> (within or across organizations\\r\\n<https://en.wikipedia.org/wiki/Organization>) to accomplish particular tasks\\r\\n<https://en.wikipedia.org/wiki/Task_(project_management)> under time\\r\\nconstraints <https://en.wikipedia.org/wiki/Time_limit>.[3]\\r\\n<https://en.wikipedia.org/wiki/Project#cite_note-3>\\r\\n\\r\\nA project may form a part of wider programme management\\r\\n<https://en.wikipedia.org/wiki/Programme_management>[4]\\r\\n<https://en.wikipedia.org/wiki/Project#cite_note-4> or function as an *ad\\r\\nhoc* system.[5] <https://en.wikipedia.org/wiki/Project#cite_note-5>\\r\\n\\r\\nOpen-source software\\r\\n<https://en.wikipedia.org/wiki/Open-source_software> \"projects\"\\r\\nor artists\\' musical \"projects\" (for example) may lack defined\\r\\nteam-membership, precise planning and/or time-limited durations.\\r\\n']\n",
            "<class 'list'>\n",
            "====================================================================================================\n",
            "Subject: E-mail Bin\n",
            "From: Stephen L <stephen.lanna1994@gmail.com>\n",
            "EMAIL GROUP [b'140', 'E-mail Bin', 'Stephen L <stephen.lanna1994@gmail.com>', 'Notification of new material added to the e-mail bin\\r\\n']\n",
            "<class 'list'>\n",
            "====================================================================================================\n",
            "Subject: Calendar\n",
            "From: Stephen L <stephen.lanna1994@gmail.com>\n",
            "EMAIL GROUP [b'141', 'Calendar', 'Stephen L <stephen.lanna1994@gmail.com>', 'Request for calendar updates\\r\\n']\n",
            "<class 'list'>\n",
            "====================================================================================================\n",
            "Subject: Calendar\n",
            "From: Stephen L <stephen.lanna1994@gmail.com>\n",
            "EMAIL GROUP [b'142', 'Calendar', 'Stephen L <stephen.lanna1994@gmail.com>', 'Invitation to an upcoming meeting regarding calendar updates\\r\\n']\n",
            "<class 'list'>\n",
            "====================================================================================================\n",
            "Subject: Deal Discrepancies\n",
            "From: Stephen L <stephen.lanna1994@gmail.com>\n",
            "EMAIL GROUP [b'143', 'Deal Discrepancies', 'Stephen L <stephen.lanna1994@gmail.com>', 'Request for resolution of a deal discrepancy\\r\\n']\n",
            "<class 'list'>\n",
            "====================================================================================================\n",
            "Subject: CES\n",
            "From: Stephen L <stephen.lanna1994@gmail.com>\n",
            "EMAIL GROUP [b'144', 'CES', 'Stephen L <stephen.lanna1994@gmail.com>', 'Email regarding upcoming CES exhibitors\\r\\n']\n",
            "<class 'list'>\n",
            "====================================================================================================\n",
            "Subject: CES\n",
            "From: Stephen L <stephen.lanna1994@gmail.com>\n",
            "EMAIL GROUP [b'145', 'CES', 'Stephen L <stephen.lanna1994@gmail.com>', 'Invitation to CES conference\\r\\n']\n",
            "<class 'list'>\n",
            "====================================================================================================\n",
            "Subject: Tufco\n",
            "From: Stephen L <stephen.lanna1994@gmail.com>\n",
            "EMAIL GROUP [b'146', 'Tufco', 'Stephen L <stephen.lanna1994@gmail.com>', 'Email regarding upcoming Tufco projects\\r\\n']\n",
            "<class 'list'>\n",
            "====================================================================================================\n",
            "Subject: Resumes\n",
            "From: Stephen L <stephen.lanna1994@gmail.com>\n",
            "EMAIL GROUP [b'147', 'Resumes', 'Stephen L <stephen.lanna1994@gmail.com>', 'Request for resume submission for a job\\r\\n']\n",
            "<class 'list'>\n",
            "====================================================================================================\n",
            "Subject: Resume\n",
            "From: Stephen L <stephen.lanna1994@gmail.com>\n",
            "EMAIL GROUP [b'148', 'Resume', 'Stephen L <stephen.lanna1994@gmail.com>', 'With all the resumes recruiters receive for every job, they only skim yours\\r\\nfor about 7.4 seconds\\r\\n<https://www.prnewswire.com/news-releases/ladders-updates-popular-recruiter-eye-tracking-study-with-new-key-insights-on-how-job-seekers-can-improve-their-resumes-300744217.html>\\r\\nbefore\\r\\ndeciding to *move you to the next round or rule you out*. This is why your\\r\\nresume summary is a game-changer. It is prime real estate that needs to\\r\\nhook the recruiters’ attention and convince them that you are the right\\r\\nperson for the job – all within that 7-second window.\\r\\n']\n",
            "<class 'list'>\n",
            "====================================================================================================\n",
            "Subject: Calendar\n",
            "From: Stephen L <stephen.lanna1994@gmail.com>\n",
            "EMAIL GROUP [b'149', 'Calendar', 'Stephen L <stephen.lanna1994@gmail.com>', 'A calendar is a system of organizing days. This is done by giving names to\\r\\nperiods of time, typically days, weeks, months and years. A date is the\\r\\ndesignation of a single and specific day within such a system.\\r\\n']\n",
            "<class 'list'>\n",
            "====================================================================================================\n",
            "Subject: California\n",
            "From: Stephen L <stephen.lanna1994@gmail.com>\n",
            "EMAIL GROUP [b'150', 'California', 'Stephen L <stephen.lanna1994@gmail.com>', 'Email regarding new legislation in California\\r\\n']\n",
            "<class 'list'>\n",
            "====================================================================================================\n",
            "Subject: Fwd: california\n",
            "From: Stephen L <stephen.lanna1994@gmail.com>\n",
            "EMAIL GROUP [b'151', 'Fwd: california', 'Stephen L <stephen.lanna1994@gmail.com>', '---------- Forwarded message ---------\\r\\nFrom: Stephen L <stephen.lanna1994@gmail.com>\\r\\nDate: Thu, Apr 27, 2023 at 6:33\\u202fPM\\r\\nSubject: california\\r\\nTo: <s.lanna.nlp@outlook.com>\\r\\n\\r\\n\\r\\nthis is a sample email about california\\r\\n']\n",
            "<class 'list'>\n",
            "====================================================================================================\n"
          ]
        }
      ]
    },
    {
      "cell_type": "code",
      "source": [
        "emailDf = pd.DataFrame(emailsList, columns=['UID', 'Subject', 'From', 'Body'])"
      ],
      "metadata": {
        "id": "Ndfr4hToaSb0"
      },
      "execution_count": 71,
      "outputs": []
    },
    {
      "cell_type": "code",
      "source": [
        "emailDf.head()"
      ],
      "metadata": {
        "id": "-YQWx6JQaSeL",
        "colab": {
          "base_uri": "https://localhost:8080/",
          "height": 337
        },
        "outputId": "dd7a25a4-774d-4eee-f4eb-9243cf733682"
      },
      "execution_count": 72,
      "outputs": [
        {
          "output_type": "execute_result",
          "data": {
            "text/plain": [
              "      UID            Subject                                     From  \\\n",
              "0   b'85'  Bill Williams III  Stephen L <stephen.lanna1994@gmail.com>   \n",
              "1  b'106'     Online Trading  Stephen L <stephen.lanna1994@gmail.com>   \n",
              "2  b'129'           Archives  Stephen L <stephen.lanna1994@gmail.com>   \n",
              "3  b'130'            Resumes  Stephen L <stephen.lanna1994@gmail.com>   \n",
              "4  b'131'               Junk  Stephen L <stephen.lanna1994@gmail.com>   \n",
              "\n",
              "                                                Body  \n",
              "0  Invitation to attend a talk by Bill Williams I...  \n",
              "1        Invitation to an online trading seminar\\r\\n  \n",
              "2        Request for access to archived material\\r\\n  \n",
              "3                  Request for review of resumes\\r\\n  \n",
              "4           Warning about a potential junk email\\r\\n  "
            ],
            "text/html": [
              "\n",
              "  <div id=\"df-a8598718-6280-42ca-94c1-e87f5e77f951\">\n",
              "    <div class=\"colab-df-container\">\n",
              "      <div>\n",
              "<style scoped>\n",
              "    .dataframe tbody tr th:only-of-type {\n",
              "        vertical-align: middle;\n",
              "    }\n",
              "\n",
              "    .dataframe tbody tr th {\n",
              "        vertical-align: top;\n",
              "    }\n",
              "\n",
              "    .dataframe thead th {\n",
              "        text-align: right;\n",
              "    }\n",
              "</style>\n",
              "<table border=\"1\" class=\"dataframe\">\n",
              "  <thead>\n",
              "    <tr style=\"text-align: right;\">\n",
              "      <th></th>\n",
              "      <th>UID</th>\n",
              "      <th>Subject</th>\n",
              "      <th>From</th>\n",
              "      <th>Body</th>\n",
              "    </tr>\n",
              "  </thead>\n",
              "  <tbody>\n",
              "    <tr>\n",
              "      <th>0</th>\n",
              "      <td>b'85'</td>\n",
              "      <td>Bill Williams III</td>\n",
              "      <td>Stephen L &lt;stephen.lanna1994@gmail.com&gt;</td>\n",
              "      <td>Invitation to attend a talk by Bill Williams I...</td>\n",
              "    </tr>\n",
              "    <tr>\n",
              "      <th>1</th>\n",
              "      <td>b'106'</td>\n",
              "      <td>Online Trading</td>\n",
              "      <td>Stephen L &lt;stephen.lanna1994@gmail.com&gt;</td>\n",
              "      <td>Invitation to an online trading seminar\\r\\n</td>\n",
              "    </tr>\n",
              "    <tr>\n",
              "      <th>2</th>\n",
              "      <td>b'129'</td>\n",
              "      <td>Archives</td>\n",
              "      <td>Stephen L &lt;stephen.lanna1994@gmail.com&gt;</td>\n",
              "      <td>Request for access to archived material\\r\\n</td>\n",
              "    </tr>\n",
              "    <tr>\n",
              "      <th>3</th>\n",
              "      <td>b'130'</td>\n",
              "      <td>Resumes</td>\n",
              "      <td>Stephen L &lt;stephen.lanna1994@gmail.com&gt;</td>\n",
              "      <td>Request for review of resumes\\r\\n</td>\n",
              "    </tr>\n",
              "    <tr>\n",
              "      <th>4</th>\n",
              "      <td>b'131'</td>\n",
              "      <td>Junk</td>\n",
              "      <td>Stephen L &lt;stephen.lanna1994@gmail.com&gt;</td>\n",
              "      <td>Warning about a potential junk email\\r\\n</td>\n",
              "    </tr>\n",
              "  </tbody>\n",
              "</table>\n",
              "</div>\n",
              "      <button class=\"colab-df-convert\" onclick=\"convertToInteractive('df-a8598718-6280-42ca-94c1-e87f5e77f951')\"\n",
              "              title=\"Convert this dataframe to an interactive table.\"\n",
              "              style=\"display:none;\">\n",
              "        \n",
              "  <svg xmlns=\"http://www.w3.org/2000/svg\" height=\"24px\"viewBox=\"0 0 24 24\"\n",
              "       width=\"24px\">\n",
              "    <path d=\"M0 0h24v24H0V0z\" fill=\"none\"/>\n",
              "    <path d=\"M18.56 5.44l.94 2.06.94-2.06 2.06-.94-2.06-.94-.94-2.06-.94 2.06-2.06.94zm-11 1L8.5 8.5l.94-2.06 2.06-.94-2.06-.94L8.5 2.5l-.94 2.06-2.06.94zm10 10l.94 2.06.94-2.06 2.06-.94-2.06-.94-.94-2.06-.94 2.06-2.06.94z\"/><path d=\"M17.41 7.96l-1.37-1.37c-.4-.4-.92-.59-1.43-.59-.52 0-1.04.2-1.43.59L10.3 9.45l-7.72 7.72c-.78.78-.78 2.05 0 2.83L4 21.41c.39.39.9.59 1.41.59.51 0 1.02-.2 1.41-.59l7.78-7.78 2.81-2.81c.8-.78.8-2.07 0-2.86zM5.41 20L4 18.59l7.72-7.72 1.47 1.35L5.41 20z\"/>\n",
              "  </svg>\n",
              "      </button>\n",
              "      \n",
              "  <style>\n",
              "    .colab-df-container {\n",
              "      display:flex;\n",
              "      flex-wrap:wrap;\n",
              "      gap: 12px;\n",
              "    }\n",
              "\n",
              "    .colab-df-convert {\n",
              "      background-color: #E8F0FE;\n",
              "      border: none;\n",
              "      border-radius: 50%;\n",
              "      cursor: pointer;\n",
              "      display: none;\n",
              "      fill: #1967D2;\n",
              "      height: 32px;\n",
              "      padding: 0 0 0 0;\n",
              "      width: 32px;\n",
              "    }\n",
              "\n",
              "    .colab-df-convert:hover {\n",
              "      background-color: #E2EBFA;\n",
              "      box-shadow: 0px 1px 2px rgba(60, 64, 67, 0.3), 0px 1px 3px 1px rgba(60, 64, 67, 0.15);\n",
              "      fill: #174EA6;\n",
              "    }\n",
              "\n",
              "    [theme=dark] .colab-df-convert {\n",
              "      background-color: #3B4455;\n",
              "      fill: #D2E3FC;\n",
              "    }\n",
              "\n",
              "    [theme=dark] .colab-df-convert:hover {\n",
              "      background-color: #434B5C;\n",
              "      box-shadow: 0px 1px 3px 1px rgba(0, 0, 0, 0.15);\n",
              "      filter: drop-shadow(0px 1px 2px rgba(0, 0, 0, 0.3));\n",
              "      fill: #FFFFFF;\n",
              "    }\n",
              "  </style>\n",
              "\n",
              "      <script>\n",
              "        const buttonEl =\n",
              "          document.querySelector('#df-a8598718-6280-42ca-94c1-e87f5e77f951 button.colab-df-convert');\n",
              "        buttonEl.style.display =\n",
              "          google.colab.kernel.accessAllowed ? 'block' : 'none';\n",
              "\n",
              "        async function convertToInteractive(key) {\n",
              "          const element = document.querySelector('#df-a8598718-6280-42ca-94c1-e87f5e77f951');\n",
              "          const dataTable =\n",
              "            await google.colab.kernel.invokeFunction('convertToInteractive',\n",
              "                                                     [key], {});\n",
              "          if (!dataTable) return;\n",
              "\n",
              "          const docLinkHtml = 'Like what you see? Visit the ' +\n",
              "            '<a target=\"_blank\" href=https://colab.research.google.com/notebooks/data_table.ipynb>data table notebook</a>'\n",
              "            + ' to learn more about interactive tables.';\n",
              "          element.innerHTML = '';\n",
              "          dataTable['output_type'] = 'display_data';\n",
              "          await google.colab.output.renderOutput(dataTable, element);\n",
              "          const docLink = document.createElement('div');\n",
              "          docLink.innerHTML = docLinkHtml;\n",
              "          element.appendChild(docLink);\n",
              "        }\n",
              "      </script>\n",
              "    </div>\n",
              "  </div>\n",
              "  "
            ]
          },
          "metadata": {},
          "execution_count": 72
        }
      ]
    },
    {
      "cell_type": "code",
      "source": [
        "def combine_columns(emaildf):\n",
        "    emaildf['Text'] = emaildf['Subject'] + ' ' + emaildf['Body']\n",
        "    emaildf = emaildf.drop('Subject', axis=1)\n",
        "    emaildf = emaildf.drop('Body', axis=1)\n",
        "    return emaildf"
      ],
      "metadata": {
        "id": "4VMTrUNVaoZu"
      },
      "execution_count": 73,
      "outputs": []
    },
    {
      "cell_type": "code",
      "source": [
        "emailDf = combine_columns(emailDf)\n",
        "emailDf.head()"
      ],
      "metadata": {
        "id": "vtjU47ooarHF",
        "colab": {
          "base_uri": "https://localhost:8080/",
          "height": 337
        },
        "outputId": "d616e956-e57d-46c2-c1b0-9d6d94bdb64b"
      },
      "execution_count": 74,
      "outputs": [
        {
          "output_type": "execute_result",
          "data": {
            "text/plain": [
              "      UID                                     From  \\\n",
              "0   b'85'  Stephen L <stephen.lanna1994@gmail.com>   \n",
              "1  b'106'  Stephen L <stephen.lanna1994@gmail.com>   \n",
              "2  b'129'  Stephen L <stephen.lanna1994@gmail.com>   \n",
              "3  b'130'  Stephen L <stephen.lanna1994@gmail.com>   \n",
              "4  b'131'  Stephen L <stephen.lanna1994@gmail.com>   \n",
              "\n",
              "                                                Text  \n",
              "0  Bill Williams III Invitation to attend a talk ...  \n",
              "1  Online Trading Invitation to an online trading...  \n",
              "2  Archives Request for access to archived materi...  \n",
              "3          Resumes Request for review of resumes\\r\\n  \n",
              "4      Junk Warning about a potential junk email\\r\\n  "
            ],
            "text/html": [
              "\n",
              "  <div id=\"df-dce6682b-a0d6-40ff-b2eb-5fb91b064d45\">\n",
              "    <div class=\"colab-df-container\">\n",
              "      <div>\n",
              "<style scoped>\n",
              "    .dataframe tbody tr th:only-of-type {\n",
              "        vertical-align: middle;\n",
              "    }\n",
              "\n",
              "    .dataframe tbody tr th {\n",
              "        vertical-align: top;\n",
              "    }\n",
              "\n",
              "    .dataframe thead th {\n",
              "        text-align: right;\n",
              "    }\n",
              "</style>\n",
              "<table border=\"1\" class=\"dataframe\">\n",
              "  <thead>\n",
              "    <tr style=\"text-align: right;\">\n",
              "      <th></th>\n",
              "      <th>UID</th>\n",
              "      <th>From</th>\n",
              "      <th>Text</th>\n",
              "    </tr>\n",
              "  </thead>\n",
              "  <tbody>\n",
              "    <tr>\n",
              "      <th>0</th>\n",
              "      <td>b'85'</td>\n",
              "      <td>Stephen L &lt;stephen.lanna1994@gmail.com&gt;</td>\n",
              "      <td>Bill Williams III Invitation to attend a talk ...</td>\n",
              "    </tr>\n",
              "    <tr>\n",
              "      <th>1</th>\n",
              "      <td>b'106'</td>\n",
              "      <td>Stephen L &lt;stephen.lanna1994@gmail.com&gt;</td>\n",
              "      <td>Online Trading Invitation to an online trading...</td>\n",
              "    </tr>\n",
              "    <tr>\n",
              "      <th>2</th>\n",
              "      <td>b'129'</td>\n",
              "      <td>Stephen L &lt;stephen.lanna1994@gmail.com&gt;</td>\n",
              "      <td>Archives Request for access to archived materi...</td>\n",
              "    </tr>\n",
              "    <tr>\n",
              "      <th>3</th>\n",
              "      <td>b'130'</td>\n",
              "      <td>Stephen L &lt;stephen.lanna1994@gmail.com&gt;</td>\n",
              "      <td>Resumes Request for review of resumes\\r\\n</td>\n",
              "    </tr>\n",
              "    <tr>\n",
              "      <th>4</th>\n",
              "      <td>b'131'</td>\n",
              "      <td>Stephen L &lt;stephen.lanna1994@gmail.com&gt;</td>\n",
              "      <td>Junk Warning about a potential junk email\\r\\n</td>\n",
              "    </tr>\n",
              "  </tbody>\n",
              "</table>\n",
              "</div>\n",
              "      <button class=\"colab-df-convert\" onclick=\"convertToInteractive('df-dce6682b-a0d6-40ff-b2eb-5fb91b064d45')\"\n",
              "              title=\"Convert this dataframe to an interactive table.\"\n",
              "              style=\"display:none;\">\n",
              "        \n",
              "  <svg xmlns=\"http://www.w3.org/2000/svg\" height=\"24px\"viewBox=\"0 0 24 24\"\n",
              "       width=\"24px\">\n",
              "    <path d=\"M0 0h24v24H0V0z\" fill=\"none\"/>\n",
              "    <path d=\"M18.56 5.44l.94 2.06.94-2.06 2.06-.94-2.06-.94-.94-2.06-.94 2.06-2.06.94zm-11 1L8.5 8.5l.94-2.06 2.06-.94-2.06-.94L8.5 2.5l-.94 2.06-2.06.94zm10 10l.94 2.06.94-2.06 2.06-.94-2.06-.94-.94-2.06-.94 2.06-2.06.94z\"/><path d=\"M17.41 7.96l-1.37-1.37c-.4-.4-.92-.59-1.43-.59-.52 0-1.04.2-1.43.59L10.3 9.45l-7.72 7.72c-.78.78-.78 2.05 0 2.83L4 21.41c.39.39.9.59 1.41.59.51 0 1.02-.2 1.41-.59l7.78-7.78 2.81-2.81c.8-.78.8-2.07 0-2.86zM5.41 20L4 18.59l7.72-7.72 1.47 1.35L5.41 20z\"/>\n",
              "  </svg>\n",
              "      </button>\n",
              "      \n",
              "  <style>\n",
              "    .colab-df-container {\n",
              "      display:flex;\n",
              "      flex-wrap:wrap;\n",
              "      gap: 12px;\n",
              "    }\n",
              "\n",
              "    .colab-df-convert {\n",
              "      background-color: #E8F0FE;\n",
              "      border: none;\n",
              "      border-radius: 50%;\n",
              "      cursor: pointer;\n",
              "      display: none;\n",
              "      fill: #1967D2;\n",
              "      height: 32px;\n",
              "      padding: 0 0 0 0;\n",
              "      width: 32px;\n",
              "    }\n",
              "\n",
              "    .colab-df-convert:hover {\n",
              "      background-color: #E2EBFA;\n",
              "      box-shadow: 0px 1px 2px rgba(60, 64, 67, 0.3), 0px 1px 3px 1px rgba(60, 64, 67, 0.15);\n",
              "      fill: #174EA6;\n",
              "    }\n",
              "\n",
              "    [theme=dark] .colab-df-convert {\n",
              "      background-color: #3B4455;\n",
              "      fill: #D2E3FC;\n",
              "    }\n",
              "\n",
              "    [theme=dark] .colab-df-convert:hover {\n",
              "      background-color: #434B5C;\n",
              "      box-shadow: 0px 1px 3px 1px rgba(0, 0, 0, 0.15);\n",
              "      filter: drop-shadow(0px 1px 2px rgba(0, 0, 0, 0.3));\n",
              "      fill: #FFFFFF;\n",
              "    }\n",
              "  </style>\n",
              "\n",
              "      <script>\n",
              "        const buttonEl =\n",
              "          document.querySelector('#df-dce6682b-a0d6-40ff-b2eb-5fb91b064d45 button.colab-df-convert');\n",
              "        buttonEl.style.display =\n",
              "          google.colab.kernel.accessAllowed ? 'block' : 'none';\n",
              "\n",
              "        async function convertToInteractive(key) {\n",
              "          const element = document.querySelector('#df-dce6682b-a0d6-40ff-b2eb-5fb91b064d45');\n",
              "          const dataTable =\n",
              "            await google.colab.kernel.invokeFunction('convertToInteractive',\n",
              "                                                     [key], {});\n",
              "          if (!dataTable) return;\n",
              "\n",
              "          const docLinkHtml = 'Like what you see? Visit the ' +\n",
              "            '<a target=\"_blank\" href=https://colab.research.google.com/notebooks/data_table.ipynb>data table notebook</a>'\n",
              "            + ' to learn more about interactive tables.';\n",
              "          element.innerHTML = '';\n",
              "          dataTable['output_type'] = 'display_data';\n",
              "          await google.colab.output.renderOutput(dataTable, element);\n",
              "          const docLink = document.createElement('div');\n",
              "          docLink.innerHTML = docLinkHtml;\n",
              "          element.appendChild(docLink);\n",
              "        }\n",
              "      </script>\n",
              "    </div>\n",
              "  </div>\n",
              "  "
            ]
          },
          "metadata": {},
          "execution_count": 74
        }
      ]
    },
    {
      "cell_type": "markdown",
      "source": [
        "# Create necessary folders"
      ],
      "metadata": {
        "id": "64wYSO2M5h8L"
      }
    },
    {
      "cell_type": "code",
      "source": [
        "for cat in categories:\n",
        "  cat = cat.title().replace(\" \", \"\")"
      ],
      "metadata": {
        "id": "wShpLfGr5kEh"
      },
      "execution_count": 75,
      "outputs": []
    },
    {
      "cell_type": "code",
      "source": [
        "print(categories)"
      ],
      "metadata": {
        "colab": {
          "base_uri": "https://localhost:8080/"
        },
        "id": "Miwipic07V1z",
        "outputId": "418a82b4-e3a6-4ad7-be1b-88933837c103"
      },
      "execution_count": 76,
      "outputs": [
        {
          "output_type": "stream",
          "name": "stdout",
          "text": [
            "['california' 'calendar' 'resumes' 'archives' 'junk file' 'ces'\n",
            " 'logistics' 'tufco' 'projects' 'online trading' 'management' 'esvl' 'ooc'\n",
            " 'corporate' 'tw-commercial group' 'genco-jv_ipo' 'junk'\n",
            " 'deal discrepancies' 'e-mail bin' 'bill williams iii']\n"
          ]
        }
      ]
    },
    {
      "cell_type": "markdown",
      "source": [
        "# Classify emails"
      ],
      "metadata": {
        "id": "yIxAKTVC5khK"
      }
    },
    {
      "cell_type": "code",
      "source": [
        "print(estimator_df['BoW'])"
      ],
      "metadata": {
        "colab": {
          "base_uri": "https://localhost:8080/"
        },
        "id": "ISISpoUHmdp_",
        "outputId": "7a25bc48-32de-4fa9-c816-0c5aaab16041"
      },
      "execution_count": 77,
      "outputs": [
        {
          "output_type": "stream",
          "name": "stdout",
          "text": [
            "0    [GaussianNB(), GaussianNB(), GaussianNB(), Gau...\n",
            "1    [MultinomialNB(), MultinomialNB(), Multinomial...\n",
            "2    [DecisionTreeClassifier(), DecisionTreeClassif...\n",
            "3    [LinearSVC(), LinearSVC(), LinearSVC(), Linear...\n",
            "Name: BoW, dtype: object\n"
          ]
        }
      ]
    },
    {
      "cell_type": "code",
      "source": [
        "#models[1].predict(X)"
      ],
      "metadata": {
        "id": "qq-TihKFoWLa"
      },
      "execution_count": 78,
      "outputs": []
    },
    {
      "cell_type": "code",
      "source": [
        "#input = []\n",
        "#input.append('California california los angeles orange county')\n",
        "#X = count_vect.transform(input)\n",
        "#X = X.toarray()\n",
        "#pred_category = categories[estimator_df['BoW'][1][4].predict(X)[0]]"
      ],
      "metadata": {
        "id": "oYdNGE-ImPv3"
      },
      "execution_count": 79,
      "outputs": []
    },
    {
      "cell_type": "code",
      "source": [
        "# Loop through emailDf and predict category using best performing estimator\n",
        "pred_dict = {}\n",
        "for index, row in emailDf.iterrows():\n",
        "    input = []\n",
        "    input.append(row['Text'])\n",
        "    X = count_vect.transform(input)\n",
        "    X = X.toarray()\n",
        "    pred_category = categories[models[3].predict(X)[0]]\n",
        "    pred_dict[row['UID']] = pred_category"
      ],
      "metadata": {
        "id": "yfBR09Ar30t-"
      },
      "execution_count": 80,
      "outputs": []
    },
    {
      "cell_type": "code",
      "source": [
        "# Function to sort emails. Takes a dictionary with a UID as key,\n",
        "# predicted category as value\n",
        "def sort_by_category(pred_dict):\n",
        "  for uid in pred_dict.keys():\n",
        "    #print(categories[pred_dict.get(uid)])\n",
        "    cat = pred_dict.get(uid).title().replace(\" \", \"\")\n",
        "    print(cat)\n",
        "    result = imap.uid('COPY', uid, cat)\n",
        "\n",
        "    if result[0] == 'OK':\n",
        "      mov, data = imap.uid('STORE', uid , '+FLAGS', '(\\Deleted)')\n",
        "      imap.expunge()"
      ],
      "metadata": {
        "id": "COqjVVpI4lyk"
      },
      "execution_count": 81,
      "outputs": []
    },
    {
      "cell_type": "code",
      "source": [
        "sort_by_category(pred_dict)"
      ],
      "metadata": {
        "colab": {
          "base_uri": "https://localhost:8080/"
        },
        "id": "S73H-HwW7re_",
        "outputId": "5f8f174a-980e-4a00-fd70-b9c43c575603"
      },
      "execution_count": 82,
      "outputs": [
        {
          "output_type": "stream",
          "name": "stdout",
          "text": [
            "Calendar\n",
            "Tw-CommercialGroup\n",
            "BillWilliamsIii\n",
            "DealDiscrepancies\n",
            "Resumes\n",
            "Resumes\n",
            "Ooc\n",
            "Resumes\n",
            "Ooc\n",
            "BillWilliamsIii\n",
            "Archives\n",
            "Tw-CommercialGroup\n",
            "Genco-Jv_Ipo\n",
            "Archives\n",
            "Ooc\n",
            "Ooc\n",
            "Logistics\n",
            "JunkFile\n",
            "JunkFile\n",
            "E-MailBin\n",
            "DealDiscrepancies\n",
            "DealDiscrepancies\n",
            "Corporate\n",
            "Archives\n",
            "Archives\n"
          ]
        }
      ]
    },
    {
      "cell_type": "code",
      "source": [
        "input = []\n",
        "input.append(\"California\")"
      ],
      "metadata": {
        "id": "RypcZ6JxetyJ"
      },
      "execution_count": 83,
      "outputs": []
    },
    {
      "cell_type": "code",
      "source": [
        "X = count_vect.transform(input)\n",
        "X = X.toarray()"
      ],
      "metadata": {
        "id": "b76qCX7Tg2FK"
      },
      "execution_count": 84,
      "outputs": []
    },
    {
      "cell_type": "code",
      "source": [
        "X.shape"
      ],
      "metadata": {
        "colab": {
          "base_uri": "https://localhost:8080/"
        },
        "id": "OGckKl-Yeo-F",
        "outputId": "aae5022b-ca0f-4f79-aa84-4f4c7e76041d"
      },
      "execution_count": 85,
      "outputs": [
        {
          "output_type": "execute_result",
          "data": {
            "text/plain": [
              "(1, 5000)"
            ]
          },
          "metadata": {},
          "execution_count": 85
        }
      ]
    },
    {
      "cell_type": "code",
      "source": [
        "pred_category = categories[estimator_df['BoW'][1][0].predict(X)[0]]\n",
        "pred_category"
      ],
      "metadata": {
        "colab": {
          "base_uri": "https://localhost:8080/",
          "height": 35
        },
        "id": "AOR6GWAKa3LK",
        "outputId": "c6e2fedd-8528-430e-8e5e-7d1af3cb12f4"
      },
      "execution_count": 86,
      "outputs": [
        {
          "output_type": "execute_result",
          "data": {
            "text/plain": [
              "'archives'"
            ],
            "application/vnd.google.colaboratory.intrinsic+json": {
              "type": "string"
            }
          },
          "metadata": {},
          "execution_count": 86
        }
      ]
    }
  ]
}