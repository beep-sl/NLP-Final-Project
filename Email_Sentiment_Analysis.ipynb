{
  "cells": [
    {
      "cell_type": "code",
      "execution_count": 1,
      "id": "44c02295",
      "metadata": {
        "colab": {
          "base_uri": "https://localhost:8080/"
        },
        "id": "44c02295",
        "outputId": "3b2c987c-e4be-46f9-a830-30dad1fbcc7b"
      },
      "outputs": [
        {
          "output_type": "stream",
          "name": "stdout",
          "text": [
            "Looking in indexes: https://pypi.org/simple, https://us-python.pkg.dev/colab-wheels/public/simple/\n",
            "Collecting transformers\n",
            "  Downloading transformers-4.28.1-py3-none-any.whl (7.0 MB)\n",
            "\u001b[2K     \u001b[90m━━━━━━━━━━━━━━━━━━━━━━━━━━━━━━━━━━━━━━━━\u001b[0m \u001b[32m7.0/7.0 MB\u001b[0m \u001b[31m52.9 MB/s\u001b[0m eta \u001b[36m0:00:00\u001b[0m\n",
            "\u001b[?25hRequirement already satisfied: filelock in /usr/local/lib/python3.10/dist-packages (from transformers) (3.12.0)\n",
            "Collecting huggingface-hub<1.0,>=0.11.0 (from transformers)\n",
            "  Downloading huggingface_hub-0.14.1-py3-none-any.whl (224 kB)\n",
            "\u001b[2K     \u001b[90m━━━━━━━━━━━━━━━━━━━━━━━━━━━━━━━━━━━━━━\u001b[0m \u001b[32m224.5/224.5 kB\u001b[0m \u001b[31m13.3 MB/s\u001b[0m eta \u001b[36m0:00:00\u001b[0m\n",
            "\u001b[?25hRequirement already satisfied: numpy>=1.17 in /usr/local/lib/python3.10/dist-packages (from transformers) (1.22.4)\n",
            "Requirement already satisfied: packaging>=20.0 in /usr/local/lib/python3.10/dist-packages (from transformers) (23.1)\n",
            "Requirement already satisfied: pyyaml>=5.1 in /usr/local/lib/python3.10/dist-packages (from transformers) (6.0)\n",
            "Requirement already satisfied: regex!=2019.12.17 in /usr/local/lib/python3.10/dist-packages (from transformers) (2022.10.31)\n",
            "Requirement already satisfied: requests in /usr/local/lib/python3.10/dist-packages (from transformers) (2.27.1)\n",
            "Collecting tokenizers!=0.11.3,<0.14,>=0.11.1 (from transformers)\n",
            "  Downloading tokenizers-0.13.3-cp310-cp310-manylinux_2_17_x86_64.manylinux2014_x86_64.whl (7.8 MB)\n",
            "\u001b[2K     \u001b[90m━━━━━━━━━━━━━━━━━━━━━━━━━━━━━━━━━━━━━━━━\u001b[0m \u001b[32m7.8/7.8 MB\u001b[0m \u001b[31m41.8 MB/s\u001b[0m eta \u001b[36m0:00:00\u001b[0m\n",
            "\u001b[?25hRequirement already satisfied: tqdm>=4.27 in /usr/local/lib/python3.10/dist-packages (from transformers) (4.65.0)\n",
            "Requirement already satisfied: fsspec in /usr/local/lib/python3.10/dist-packages (from huggingface-hub<1.0,>=0.11.0->transformers) (2023.4.0)\n",
            "Requirement already satisfied: typing-extensions>=3.7.4.3 in /usr/local/lib/python3.10/dist-packages (from huggingface-hub<1.0,>=0.11.0->transformers) (4.5.0)\n",
            "Requirement already satisfied: urllib3<1.27,>=1.21.1 in /usr/local/lib/python3.10/dist-packages (from requests->transformers) (1.26.15)\n",
            "Requirement already satisfied: certifi>=2017.4.17 in /usr/local/lib/python3.10/dist-packages (from requests->transformers) (2022.12.7)\n",
            "Requirement already satisfied: charset-normalizer~=2.0.0 in /usr/local/lib/python3.10/dist-packages (from requests->transformers) (2.0.12)\n",
            "Requirement already satisfied: idna<4,>=2.5 in /usr/local/lib/python3.10/dist-packages (from requests->transformers) (3.4)\n",
            "Installing collected packages: tokenizers, huggingface-hub, transformers\n",
            "Successfully installed huggingface-hub-0.14.1 tokenizers-0.13.3 transformers-4.28.1\n"
          ]
        },
        {
          "output_type": "stream",
          "name": "stderr",
          "text": [
            "[nltk_data] Downloading package stopwords to /root/nltk_data...\n",
            "[nltk_data]   Unzipping corpora/stopwords.zip.\n"
          ]
        }
      ],
      "source": [
        "import imaplib\n",
        "import email\n",
        "from email.header import decode_header\n",
        "import webbrowser\n",
        "import os\n",
        "import pandas as pd\n",
        "import re\n",
        "\n",
        "!pip install transformers\n",
        "from transformers import pipeline\n",
        "\n",
        "import numpy as np\n",
        "import matplotlib.pyplot as plt\n",
        "import seaborn as sns\n",
        "import warnings\n",
        "warnings.filterwarnings('ignore')\n",
        "%matplotlib inline\n",
        "import re \n",
        "import string \n",
        "import time\n",
        "pd.set_option(\"display.max_rows\",50)\n",
        "from nltk.corpus import stopwords\n",
        "import nltk\n",
        "nltk.download('stopwords')\n",
        "\n",
        "from sklearn.preprocessing import LabelEncoder\n",
        "from sklearn.feature_extraction.text import CountVectorizer\n",
        "from sklearn.feature_extraction.text import TfidfVectorizer\n",
        "from sklearn.model_selection import cross_validate\n",
        "\n",
        "# machine learning model for email classification\n",
        "from sklearn.naive_bayes import MultinomialNB,GaussianNB\n",
        "from sklearn.tree import DecisionTreeClassifier\n",
        "from sklearn.svm import LinearSVC\n",
        "from sklearn.ensemble import AdaBoostClassifier\n",
        "from sklearn.neural_network import MLPClassifier"
      ]
    },
    {
      "cell_type": "markdown",
      "id": "acdeec7a",
      "metadata": {
        "id": "acdeec7a"
      },
      "source": [
        "# imap setup"
      ]
    },
    {
      "cell_type": "code",
      "execution_count": 2,
      "id": "e6147802",
      "metadata": {
        "id": "e6147802"
      },
      "outputs": [],
      "source": [
        "# account credentials\n",
        "username = \"Your_email_address\"\n",
        "password = \"Your_Password\"\n",
        "# use your email provider's IMAP server, you can look for your provider's IMAP server on Google\n",
        "# or check this page: https://www.systoolsgroup.com/imap/\n",
        "# for office 365, it's this:\n",
        "imap_server = \"imap-mail.outlook.com\"\n",
        "\n",
        "def clean(text):\n",
        "    # clean text for creating a folder\n",
        "    return \"\".join(c if c.isalnum() else \"_\" for c in text)"
      ]
    },
    {
      "cell_type": "code",
      "execution_count": 3,
      "id": "3152153a",
      "metadata": {
        "colab": {
          "base_uri": "https://localhost:8080/"
        },
        "id": "3152153a",
        "outputId": "d879eb61-5d00-4f92-ac51-33681005fca0"
      },
      "outputs": [
        {
          "output_type": "execute_result",
          "data": {
            "text/plain": [
              "('OK', [b'LOGIN completed.'])"
            ]
          },
          "metadata": {},
          "execution_count": 3
        }
      ],
      "source": [
        "# create an IMAP4 class with SSL \n",
        "imap = imaplib.IMAP4_SSL(imap_server)\n",
        "# authenticate\n",
        "imap.login(username, password)"
      ]
    },
    {
      "cell_type": "code",
      "execution_count": 4,
      "id": "417cfda6",
      "metadata": {
        "id": "417cfda6"
      },
      "outputs": [],
      "source": [
        "status, messages = imap.select(\"INBOX\")\n",
        "# number of top emails to fetch\n",
        "#N = int(messages[0])\n",
        "N = int(messages[0])\n",
        "# total number of emails\n",
        "messages = int(messages[0])\n",
        "\n",
        "# List containing subject, from, and body\n",
        "emailsList = []"
      ]
    },
    {
      "cell_type": "code",
      "source": [],
      "metadata": {
        "id": "ak2aASEuKLa1"
      },
      "id": "ak2aASEuKLa1",
      "execution_count": 4,
      "outputs": []
    },
    {
      "cell_type": "markdown",
      "id": "cf88dc7f",
      "metadata": {
        "id": "cf88dc7f"
      },
      "source": [
        "# Loop to read emails"
      ]
    },
    {
      "cell_type": "code",
      "source": [
        "def parse_uid(msg_data):\n",
        "    #print(type(msg_data))\n",
        "    pattern_uid = re.compile(r'\\d+ \\(UID (?P<uid>\\d+)\\)')\n",
        "    match = pattern_uid.match(msg_data)\n",
        "    return match.group('uid')"
      ],
      "metadata": {
        "id": "alKm3k_sdgEq"
      },
      "id": "alKm3k_sdgEq",
      "execution_count": 5,
      "outputs": []
    },
    {
      "cell_type": "code",
      "source": [
        "def get_uid_and_rfc822(folder):\n",
        "    imap.select(folder)\n",
        "    raw_emails = []\n",
        "\n",
        "    result, data = imap.uid('search', None, \"ALL\")\n",
        "    ids = data[0]\n",
        "    id_list = ids.split()\n",
        "\n",
        "    for i in id_list:\n",
        "        res, msg = imap.uid('fetch', i, '(RFC822)')\n",
        "        #raw_email = msg[0][1]\n",
        "        #raw_emails.append(raw_email)\n",
        "        for response in msg:\n",
        "                #rfc_string = response[0].decode()\n",
        "                #print(type(rfc_string))\n",
        "                if isinstance(response, tuple):\n",
        "\n",
        "                    # parse a bytes email into a message object\n",
        "                    msg = email.message_from_bytes(response[1])\n",
        "                    # decode the email subject\n",
        "                    subject, encoding = decode_header(msg[\"Subject\"])[0]\n",
        "                    if isinstance(subject, bytes):\n",
        "                        # if it's a bytes, decode to str\n",
        "                        subject = subject.decode(encoding)\n",
        "                    # decode email sender\n",
        "                    From, encoding = decode_header(msg.get(\"From\"))[0]\n",
        "                    if isinstance(From, bytes):\n",
        "                        From = From.decode(encoding)\n",
        "                    print(\"Subject:\", subject)\n",
        "                    print(\"From:\", From)\n",
        "                    # if the email message is multipart\n",
        "                    if msg.is_multipart():\n",
        "                        # iterate over email parts\n",
        "                        for part in msg.walk():\n",
        "                            # extract content type of email\n",
        "                            content_type = part.get_content_type()\n",
        "                            content_disposition = str(part.get(\"Content-Disposition\"))\n",
        "                            try:\n",
        "                                # get the email body\n",
        "                                body = part.get_payload(decode=True).decode()\n",
        "                            except:\n",
        "                                pass\n",
        "                            if content_type == \"text/plain\" and \"attachment\" not in content_disposition:\n",
        "                                # print text/plain emails and skip attachments\n",
        "                                #print(\"This is the plain body: \" + body)\n",
        "\n",
        "                                #print(\"Whats happening to the body??: \" + body)\n",
        "                                emailGroup = [i, subject, From, body]\n",
        "                                print('EMAIL GROUP', emailGroup)\n",
        "                                print(type(emailsList))\n",
        "                                emailsList.append(emailGroup)\n",
        "                            elif \"attachment\" in content_disposition:\n",
        "                                print('sad')\n",
        "                                # download attachment\n",
        "                                filename = part.get_filename()\n",
        "                                if filename:\n",
        "                                    folder_name = clean(subject)\n",
        "                                    if not os.path.isdir(folder_name):\n",
        "                                        # make a folder for this email (named after the subject)\n",
        "                                        os.mkdir(folder_name)\n",
        "                                    filepath = os.path.join(folder_name, filename)\n",
        "                                    # download attachment and save it\n",
        "                                    open(filepath, \"wb\").write(part.get_payload(decode=True))\n",
        "                    else:\n",
        "                        # extract content type of email\n",
        "                        content_type = msg.get_content_type()\n",
        "                        # get the email body\n",
        "                        body = msg.get_payload(decode=True).decode()\n",
        "                        if content_type == \"text/plain\":\n",
        "                            # print only text email parts\n",
        "                            print(body)\n",
        "                    print(\"=\"*100)\n",
        "\n",
        "            #return id_list, raw_emails\n",
        "            "
      ],
      "metadata": {
        "id": "PzicPl0Nx031"
      },
      "id": "PzicPl0Nx031",
      "execution_count": 6,
      "outputs": []
    },
    {
      "cell_type": "code",
      "source": [
        "get_uid_and_rfc822('Inbox')"
      ],
      "metadata": {
        "id": "v751M1-eyCaI",
        "colab": {
          "base_uri": "https://localhost:8080/"
        },
        "outputId": "5f86e9d1-3f47-4957-9e53-7acd0b03bfba"
      },
      "id": "v751M1-eyCaI",
      "execution_count": 7,
      "outputs": [
        {
          "output_type": "stream",
          "name": "stdout",
          "text": [
            "Subject: Upcoming Event\n",
            "From: Stephen L <stephen.lanna1994@gmail.com>\n",
            "EMAIL GROUP [b'162', 'Upcoming Event', 'Stephen L <stephen.lanna1994@gmail.com>', \"I am so excited for the upcoming event - it's going to be a blast!\\r\\n\"]\n",
            "<class 'list'>\n",
            "====================================================================================================\n",
            "Subject: Bad Service >:(\n",
            "From: Stephen L <stephen.lanna1994@gmail.com>\n",
            "EMAIL GROUP [b'164', 'Bad Service >:(', 'Stephen L <stephen.lanna1994@gmail.com>', 'I am so disappointed with the service I received - I will never be returning\\r\\nhere again.\\r\\n']\n",
            "<class 'list'>\n",
            "====================================================================================================\n",
            "Subject: Thank you\n",
            "From: Stephen L <stephen.lanna1994@gmail.com>\n",
            "EMAIL GROUP [b'166', 'Thank you', 'Stephen L <stephen.lanna1994@gmail.com>', 'I am so grateful for your help and support - thank you so much.\\r\\n']\n",
            "<class 'list'>\n",
            "====================================================================================================\n",
            "Subject: Frustrated\n",
            "From: Stephen L <stephen.lanna1994@gmail.com>\n",
            "EMAIL GROUP [b'168', 'Frustrated', 'Stephen L <stephen.lanna1994@gmail.com>', \"I am so frustrated with the wait time - I'm going to take my business\\r\\nelsewhere.\\r\\n\"]\n",
            "<class 'list'>\n",
            "====================================================================================================\n",
            "Subject: Love ur products\n",
            "From: Stephen L <stephen.lanna1994@gmail.com>\n",
            "EMAIL GROUP [b'170', 'Love ur products', 'Stephen L <stephen.lanna1994@gmail.com>', 'I am so pleased with the product I received - I will definitely be ordering\\r\\nmore in the future.\\r\\n']\n",
            "<class 'list'>\n",
            "====================================================================================================\n",
            "Subject: I'm pissed\n",
            "From: Stephen L <stephen.lanna1994@gmail.com>\n",
            "EMAIL GROUP [b'172', \"I'm pissed\", 'Stephen L <stephen.lanna1994@gmail.com>', 'I am so angry with the customer service I received - I will be filing a\\r\\ncomplaint.\\r\\n']\n",
            "<class 'list'>\n",
            "====================================================================================================\n",
            "Subject: Color me impressed\n",
            "From: Stephen L <stephen.lanna1994@gmail.com>\n",
            "EMAIL GROUP [b'174', 'Color me impressed', 'Stephen L <stephen.lanna1994@gmail.com>', 'I am so impressed with the quality of the product - I will be recommending\\r\\nit to others.\\r\\n']\n",
            "<class 'list'>\n",
            "====================================================================================================\n",
            "Subject: I'm not satisfied\n",
            "From: Stephen L <stephen.lanna1994@gmail.com>\n",
            "EMAIL GROUP [b'176', \"I'm not satisfied\", 'Stephen L <stephen.lanna1994@gmail.com>', 'I am so dissatisfied with the results - I expected much better.\\r\\n']\n",
            "<class 'list'>\n",
            "====================================================================================================\n",
            "Subject: Yay\n",
            "From: Stephen L <stephen.lanna1994@gmail.com>\n",
            "EMAIL GROUP [b'178', 'Yay', 'Stephen L <stephen.lanna1994@gmail.com>', 'I am so happy with the results - this exceeded my expectations.\\r\\n']\n",
            "<class 'list'>\n",
            "====================================================================================================\n",
            "Subject: We're through\n",
            "From: Stephen L <stephen.lanna1994@gmail.com>\n",
            "EMAIL GROUP [b'180', \"We're through\", 'Stephen L <stephen.lanna1994@gmail.com>', \"I am so fed up with the lack of response - I'm done with this company.\\r\\n\"]\n",
            "<class 'list'>\n",
            "====================================================================================================\n"
          ]
        }
      ]
    },
    {
      "cell_type": "code",
      "source": [
        "imap.list()"
      ],
      "metadata": {
        "colab": {
          "base_uri": "https://localhost:8080/"
        },
        "id": "S91H02nGWI61",
        "outputId": "a7a234e6-7fde-45b9-bf02-bed58a2b6585"
      },
      "id": "S91H02nGWI61",
      "execution_count": 8,
      "outputs": [
        {
          "output_type": "execute_result",
          "data": {
            "text/plain": [
              "('OK',\n",
              " [b'(\\\\HasNoChildren) \"/\" Archive',\n",
              "  b'(\\\\HasChildren \\\\Trash) \"/\" Deleted',\n",
              "  b'(\\\\HasNoChildren) \"/\" Deleted/Negative',\n",
              "  b'(\\\\Marked \\\\HasNoChildren) \"/\" \"Deleted/Negative (1)\"',\n",
              "  b'(\\\\HasNoChildren) \"/\" Deleted/Positive',\n",
              "  b'(\\\\HasNoChildren) \"/\" \"Deleted/Positive (1)\"',\n",
              "  b'(\\\\HasNoChildren \\\\Drafts) \"/\" Drafts',\n",
              "  b'(\\\\Marked \\\\HasNoChildren) \"/\" Inbox',\n",
              "  b'(\\\\HasNoChildren \\\\Junk) \"/\" Junk',\n",
              "  b'(\\\\Marked \\\\HasNoChildren) \"/\" Negative',\n",
              "  b'(\\\\Marked \\\\HasNoChildren) \"/\" \"Negative (1)\"',\n",
              "  b'(\\\\HasNoChildren) \"/\" Notes',\n",
              "  b'(\\\\HasNoChildren) \"/\" Outbox',\n",
              "  b'(\\\\Marked \\\\HasNoChildren) \"/\" Positive',\n",
              "  b'(\\\\HasNoChildren) \"/\" \"Positive (1)\"',\n",
              "  b'(\\\\HasNoChildren \\\\Sent) \"/\" Sent',\n",
              "  b'(\\\\Marked \\\\HasNoChildren) \"/\" testing',\n",
              "  b'(\\\\HasNoChildren) \"/\" ToClassify'])"
            ]
          },
          "metadata": {},
          "execution_count": 8
        }
      ]
    },
    {
      "cell_type": "code",
      "source": [
        "imap.create('Negative')\n",
        "imap.create('Positive')\n",
        "imap.create('testing')\n",
        "imap.list()"
      ],
      "metadata": {
        "colab": {
          "base_uri": "https://localhost:8080/"
        },
        "id": "ZZlqQrXCZybK",
        "outputId": "d5df32ed-9360-416e-cb77-8f4c3b38656d"
      },
      "id": "ZZlqQrXCZybK",
      "execution_count": 9,
      "outputs": [
        {
          "output_type": "execute_result",
          "data": {
            "text/plain": [
              "('OK',\n",
              " [b'(\\\\HasNoChildren) \"/\" Archive',\n",
              "  b'(\\\\HasChildren \\\\Trash) \"/\" Deleted',\n",
              "  b'(\\\\HasNoChildren) \"/\" Deleted/Negative',\n",
              "  b'(\\\\Marked \\\\HasNoChildren) \"/\" \"Deleted/Negative (1)\"',\n",
              "  b'(\\\\HasNoChildren) \"/\" Deleted/Positive',\n",
              "  b'(\\\\HasNoChildren) \"/\" \"Deleted/Positive (1)\"',\n",
              "  b'(\\\\HasNoChildren \\\\Drafts) \"/\" Drafts',\n",
              "  b'(\\\\Marked \\\\HasNoChildren) \"/\" Inbox',\n",
              "  b'(\\\\HasNoChildren \\\\Junk) \"/\" Junk',\n",
              "  b'(\\\\Marked \\\\HasNoChildren) \"/\" Negative',\n",
              "  b'(\\\\Marked \\\\HasNoChildren) \"/\" \"Negative (1)\"',\n",
              "  b'(\\\\HasNoChildren) \"/\" Notes',\n",
              "  b'(\\\\HasNoChildren) \"/\" Outbox',\n",
              "  b'(\\\\Marked \\\\HasNoChildren) \"/\" Positive',\n",
              "  b'(\\\\HasNoChildren) \"/\" \"Positive (1)\"',\n",
              "  b'(\\\\HasNoChildren \\\\Sent) \"/\" Sent',\n",
              "  b'(\\\\Marked \\\\HasNoChildren) \"/\" testing',\n",
              "  b'(\\\\HasNoChildren) \"/\" ToClassify'])"
            ]
          },
          "metadata": {},
          "execution_count": 9
        }
      ]
    },
    {
      "cell_type": "markdown",
      "id": "974bb181",
      "metadata": {
        "id": "974bb181"
      },
      "source": [
        "# Create DataFrame to hold emails"
      ]
    },
    {
      "cell_type": "code",
      "execution_count": 10,
      "id": "81ffd83d",
      "metadata": {
        "id": "81ffd83d"
      },
      "outputs": [],
      "source": [
        "emailDf = pd.DataFrame(emailsList, columns=['UID', 'Subject', 'From', 'Body'])"
      ]
    },
    {
      "cell_type": "code",
      "execution_count": 11,
      "id": "06d57ee2",
      "metadata": {
        "colab": {
          "base_uri": "https://localhost:8080/",
          "height": 337
        },
        "id": "06d57ee2",
        "outputId": "a56e9768-a7ec-47f7-d6c5-e524a71722e5"
      },
      "outputs": [
        {
          "output_type": "execute_result",
          "data": {
            "text/plain": [
              "      UID           Subject                                     From  \\\n",
              "0  b'162'    Upcoming Event  Stephen L <stephen.lanna1994@gmail.com>   \n",
              "1  b'164'   Bad Service >:(  Stephen L <stephen.lanna1994@gmail.com>   \n",
              "2  b'166'         Thank you  Stephen L <stephen.lanna1994@gmail.com>   \n",
              "3  b'168'        Frustrated  Stephen L <stephen.lanna1994@gmail.com>   \n",
              "4  b'170'  Love ur products  Stephen L <stephen.lanna1994@gmail.com>   \n",
              "\n",
              "                                                Body  \n",
              "0  I am so excited for the upcoming event - it's ...  \n",
              "1  I am so disappointed with the service I receiv...  \n",
              "2  I am so grateful for your help and support - t...  \n",
              "3  I am so frustrated with the wait time - I'm go...  \n",
              "4  I am so pleased with the product I received - ...  "
            ],
            "text/html": [
              "\n",
              "  <div id=\"df-3aa99702-6320-4c08-b83e-c11a2c04d22c\">\n",
              "    <div class=\"colab-df-container\">\n",
              "      <div>\n",
              "<style scoped>\n",
              "    .dataframe tbody tr th:only-of-type {\n",
              "        vertical-align: middle;\n",
              "    }\n",
              "\n",
              "    .dataframe tbody tr th {\n",
              "        vertical-align: top;\n",
              "    }\n",
              "\n",
              "    .dataframe thead th {\n",
              "        text-align: right;\n",
              "    }\n",
              "</style>\n",
              "<table border=\"1\" class=\"dataframe\">\n",
              "  <thead>\n",
              "    <tr style=\"text-align: right;\">\n",
              "      <th></th>\n",
              "      <th>UID</th>\n",
              "      <th>Subject</th>\n",
              "      <th>From</th>\n",
              "      <th>Body</th>\n",
              "    </tr>\n",
              "  </thead>\n",
              "  <tbody>\n",
              "    <tr>\n",
              "      <th>0</th>\n",
              "      <td>b'162'</td>\n",
              "      <td>Upcoming Event</td>\n",
              "      <td>Stephen L &lt;stephen.lanna1994@gmail.com&gt;</td>\n",
              "      <td>I am so excited for the upcoming event - it's ...</td>\n",
              "    </tr>\n",
              "    <tr>\n",
              "      <th>1</th>\n",
              "      <td>b'164'</td>\n",
              "      <td>Bad Service &gt;:(</td>\n",
              "      <td>Stephen L &lt;stephen.lanna1994@gmail.com&gt;</td>\n",
              "      <td>I am so disappointed with the service I receiv...</td>\n",
              "    </tr>\n",
              "    <tr>\n",
              "      <th>2</th>\n",
              "      <td>b'166'</td>\n",
              "      <td>Thank you</td>\n",
              "      <td>Stephen L &lt;stephen.lanna1994@gmail.com&gt;</td>\n",
              "      <td>I am so grateful for your help and support - t...</td>\n",
              "    </tr>\n",
              "    <tr>\n",
              "      <th>3</th>\n",
              "      <td>b'168'</td>\n",
              "      <td>Frustrated</td>\n",
              "      <td>Stephen L &lt;stephen.lanna1994@gmail.com&gt;</td>\n",
              "      <td>I am so frustrated with the wait time - I'm go...</td>\n",
              "    </tr>\n",
              "    <tr>\n",
              "      <th>4</th>\n",
              "      <td>b'170'</td>\n",
              "      <td>Love ur products</td>\n",
              "      <td>Stephen L &lt;stephen.lanna1994@gmail.com&gt;</td>\n",
              "      <td>I am so pleased with the product I received - ...</td>\n",
              "    </tr>\n",
              "  </tbody>\n",
              "</table>\n",
              "</div>\n",
              "      <button class=\"colab-df-convert\" onclick=\"convertToInteractive('df-3aa99702-6320-4c08-b83e-c11a2c04d22c')\"\n",
              "              title=\"Convert this dataframe to an interactive table.\"\n",
              "              style=\"display:none;\">\n",
              "        \n",
              "  <svg xmlns=\"http://www.w3.org/2000/svg\" height=\"24px\"viewBox=\"0 0 24 24\"\n",
              "       width=\"24px\">\n",
              "    <path d=\"M0 0h24v24H0V0z\" fill=\"none\"/>\n",
              "    <path d=\"M18.56 5.44l.94 2.06.94-2.06 2.06-.94-2.06-.94-.94-2.06-.94 2.06-2.06.94zm-11 1L8.5 8.5l.94-2.06 2.06-.94-2.06-.94L8.5 2.5l-.94 2.06-2.06.94zm10 10l.94 2.06.94-2.06 2.06-.94-2.06-.94-.94-2.06-.94 2.06-2.06.94z\"/><path d=\"M17.41 7.96l-1.37-1.37c-.4-.4-.92-.59-1.43-.59-.52 0-1.04.2-1.43.59L10.3 9.45l-7.72 7.72c-.78.78-.78 2.05 0 2.83L4 21.41c.39.39.9.59 1.41.59.51 0 1.02-.2 1.41-.59l7.78-7.78 2.81-2.81c.8-.78.8-2.07 0-2.86zM5.41 20L4 18.59l7.72-7.72 1.47 1.35L5.41 20z\"/>\n",
              "  </svg>\n",
              "      </button>\n",
              "      \n",
              "  <style>\n",
              "    .colab-df-container {\n",
              "      display:flex;\n",
              "      flex-wrap:wrap;\n",
              "      gap: 12px;\n",
              "    }\n",
              "\n",
              "    .colab-df-convert {\n",
              "      background-color: #E8F0FE;\n",
              "      border: none;\n",
              "      border-radius: 50%;\n",
              "      cursor: pointer;\n",
              "      display: none;\n",
              "      fill: #1967D2;\n",
              "      height: 32px;\n",
              "      padding: 0 0 0 0;\n",
              "      width: 32px;\n",
              "    }\n",
              "\n",
              "    .colab-df-convert:hover {\n",
              "      background-color: #E2EBFA;\n",
              "      box-shadow: 0px 1px 2px rgba(60, 64, 67, 0.3), 0px 1px 3px 1px rgba(60, 64, 67, 0.15);\n",
              "      fill: #174EA6;\n",
              "    }\n",
              "\n",
              "    [theme=dark] .colab-df-convert {\n",
              "      background-color: #3B4455;\n",
              "      fill: #D2E3FC;\n",
              "    }\n",
              "\n",
              "    [theme=dark] .colab-df-convert:hover {\n",
              "      background-color: #434B5C;\n",
              "      box-shadow: 0px 1px 3px 1px rgba(0, 0, 0, 0.15);\n",
              "      filter: drop-shadow(0px 1px 2px rgba(0, 0, 0, 0.3));\n",
              "      fill: #FFFFFF;\n",
              "    }\n",
              "  </style>\n",
              "\n",
              "      <script>\n",
              "        const buttonEl =\n",
              "          document.querySelector('#df-3aa99702-6320-4c08-b83e-c11a2c04d22c button.colab-df-convert');\n",
              "        buttonEl.style.display =\n",
              "          google.colab.kernel.accessAllowed ? 'block' : 'none';\n",
              "\n",
              "        async function convertToInteractive(key) {\n",
              "          const element = document.querySelector('#df-3aa99702-6320-4c08-b83e-c11a2c04d22c');\n",
              "          const dataTable =\n",
              "            await google.colab.kernel.invokeFunction('convertToInteractive',\n",
              "                                                     [key], {});\n",
              "          if (!dataTable) return;\n",
              "\n",
              "          const docLinkHtml = 'Like what you see? Visit the ' +\n",
              "            '<a target=\"_blank\" href=https://colab.research.google.com/notebooks/data_table.ipynb>data table notebook</a>'\n",
              "            + ' to learn more about interactive tables.';\n",
              "          element.innerHTML = '';\n",
              "          dataTable['output_type'] = 'display_data';\n",
              "          await google.colab.output.renderOutput(dataTable, element);\n",
              "          const docLink = document.createElement('div');\n",
              "          docLink.innerHTML = docLinkHtml;\n",
              "          element.appendChild(docLink);\n",
              "        }\n",
              "      </script>\n",
              "    </div>\n",
              "  </div>\n",
              "  "
            ]
          },
          "metadata": {},
          "execution_count": 11
        }
      ],
      "source": [
        "emailDf.head()"
      ]
    },
    {
      "cell_type": "markdown",
      "id": "c47f1110",
      "metadata": {
        "id": "c47f1110"
      },
      "source": [
        "# Setup pipeline for sentiment analysis"
      ]
    },
    {
      "cell_type": "code",
      "execution_count": 12,
      "id": "f871da1c",
      "metadata": {
        "colab": {
          "base_uri": "https://localhost:8080/",
          "height": 313,
          "referenced_widgets": [
            "3e70f9de3f6b40b2bebf3290d4993bd4",
            "176beafae16140d5a46dfa38c618c0b7",
            "b76a1c3d8da34bf8a96b608dbaed1425",
            "036397295af446da8e84bc50f9b8b27e",
            "48a5770965fd4a229362d3809d9efd01",
            "a0f586d7d18c48f09fb21873993fadf8",
            "ae81542846324315add68e9330dd4572",
            "f83316a64b5b4b69a72d9beb8f2cf105",
            "cec95014acf24630bb2d3249f779b879",
            "120bf2acf5bd420cbe4bf8782a5f02f5",
            "9849f93c2ad24f168646a2cc9703a15c",
            "9c715469bf594dbf93882c0e4d88fe7b",
            "e6956fda72124fdfa6c42560b1b3fdd3",
            "dfa56ce8030646a7b666720f40b1c2ac",
            "4f77ace331124bbdaae38e5fa56bdbe8",
            "1d66fef2821a4e739fbdb0340a26f8ef",
            "61f60fa054154eaaa6e76ed923a20bd5",
            "eaa8a0b1afbf44598140fa8c98b45cbf",
            "f3f179b2f385499f8fa817ee5ea40bb1",
            "2b7fbeadf5ff42fa9f303b0f66641aa5",
            "c11daa0bd000400c8ac156bb7c6c44c0",
            "309779e27b454d11b581f4b92d3b7858",
            "f97f53f60b464c79960002a20ca225a5",
            "732d53746dea48988575c75d125f9b10",
            "d6afe888f3524f1c91da35ce2698c9a4",
            "d4ac1909ebb44197ac7dd157ba13da28",
            "69191d32db4c40f2b7b9d3de1cff1c0b",
            "62ba622a4f4b4ab880b0d430942cb357",
            "f27be30086024afb8112328e775bd9a2",
            "e349e7b372aa41a497602ff5dfeea935",
            "0129be96740f43058bb896686ac683a7",
            "2baccacfd9df4c3e9d12d2b6218148ae",
            "92c95e9339904611a29072c0591fe01a",
            "3600720e0682497d9486c64d2208b43a",
            "2e189261865943129f0f171ce6802f6f",
            "ca777e860a9048808bb12df45480230f",
            "91e69b506e484559bde7090bf88d2d91",
            "83511889424b44d0bb69a12eb892f2b9",
            "c8e21700dc174c9484950bf0af91cd09",
            "0952d0cd41d3435a9f3f0643d8e6846d",
            "a46f38b9e5064bcf8ff3c0e02c32558c",
            "5e3d5a56501f4e1eb88b5e6391c66315",
            "2c0772f88e0f4d0b9059f70b29cf2977",
            "3ddf9a34abf44c949bd263d790652271"
          ]
        },
        "id": "f871da1c",
        "outputId": "41de1c06-58f1-49e5-abe2-c0571687fa24"
      },
      "outputs": [
        {
          "output_type": "stream",
          "name": "stderr",
          "text": [
            "No model was supplied, defaulted to distilbert-base-uncased-finetuned-sst-2-english and revision af0f99b (https://huggingface.co/distilbert-base-uncased-finetuned-sst-2-english).\n",
            "Using a pipeline without specifying a model name and revision in production is not recommended.\n"
          ]
        },
        {
          "output_type": "display_data",
          "data": {
            "text/plain": [
              "Downloading (…)lve/main/config.json:   0%|          | 0.00/629 [00:00<?, ?B/s]"
            ],
            "application/vnd.jupyter.widget-view+json": {
              "version_major": 2,
              "version_minor": 0,
              "model_id": "3e70f9de3f6b40b2bebf3290d4993bd4"
            }
          },
          "metadata": {}
        },
        {
          "output_type": "display_data",
          "data": {
            "text/plain": [
              "Downloading pytorch_model.bin:   0%|          | 0.00/268M [00:00<?, ?B/s]"
            ],
            "application/vnd.jupyter.widget-view+json": {
              "version_major": 2,
              "version_minor": 0,
              "model_id": "9c715469bf594dbf93882c0e4d88fe7b"
            }
          },
          "metadata": {}
        },
        {
          "output_type": "display_data",
          "data": {
            "text/plain": [
              "Downloading (…)okenizer_config.json:   0%|          | 0.00/48.0 [00:00<?, ?B/s]"
            ],
            "application/vnd.jupyter.widget-view+json": {
              "version_major": 2,
              "version_minor": 0,
              "model_id": "f97f53f60b464c79960002a20ca225a5"
            }
          },
          "metadata": {}
        },
        {
          "output_type": "display_data",
          "data": {
            "text/plain": [
              "Downloading (…)solve/main/vocab.txt:   0%|          | 0.00/232k [00:00<?, ?B/s]"
            ],
            "application/vnd.jupyter.widget-view+json": {
              "version_major": 2,
              "version_minor": 0,
              "model_id": "3600720e0682497d9486c64d2208b43a"
            }
          },
          "metadata": {}
        }
      ],
      "source": [
        "sentiment_pipeline = pipeline('sentiment-analysis')"
      ]
    },
    {
      "cell_type": "markdown",
      "source": [
        "# Gather email contents for Sentiment Analysis"
      ],
      "metadata": {
        "id": "5Gd-7WmZ-47r"
      },
      "id": "5Gd-7WmZ-47r"
    },
    {
      "cell_type": "code",
      "execution_count": 13,
      "id": "b3d55412",
      "metadata": {
        "id": "b3d55412"
      },
      "outputs": [],
      "source": [
        "# Function to extract contents from DataFrame\n",
        "def get_email_contents(emailDf):\n",
        "  uids = []\n",
        "  subjects = []\n",
        "  bodies = []\n",
        "  senders = []\n",
        "\n",
        "  for i in range(len(emailDf)):\n",
        "    row = emailDf.iloc[i]\n",
        "    uids.append(row['UID'])\n",
        "    subjects.append(row['Subject'])\n",
        "    bodies.append(row['Body'])\n",
        "    senders.append(row['From'])\n",
        "  return uids, subjects, bodies, senders"
      ]
    },
    {
      "cell_type": "code",
      "source": [
        "uids, subjects, bodies, senders = get_email_contents(emailDf)"
      ],
      "metadata": {
        "id": "a5gqFa3VAFlO"
      },
      "id": "a5gqFa3VAFlO",
      "execution_count": 14,
      "outputs": []
    },
    {
      "cell_type": "code",
      "source": [
        "def remove_newlines(list_of_strings):\n",
        "  new_list = []\n",
        "  for string in list_of_strings:\n",
        "    new_list.append(string.replace('\\n', '').replace('\\r', ''))\n",
        "  return new_list"
      ],
      "metadata": {
        "id": "WLsFCmTGGonz"
      },
      "id": "WLsFCmTGGonz",
      "execution_count": 15,
      "outputs": []
    },
    {
      "cell_type": "code",
      "source": [
        "bodies = remove_newlines(bodies)"
      ],
      "metadata": {
        "id": "-5kdrApsG4cn"
      },
      "id": "-5kdrApsG4cn",
      "execution_count": 16,
      "outputs": []
    },
    {
      "cell_type": "code",
      "source": [
        "def reduce_list_size(list_of_strings):\n",
        "    # Create an empty list to hold the reduced strings\n",
        "    reduced_list = []\n",
        "    # Iterate through the list of strings\n",
        "    for string in list_of_strings:\n",
        "        # Split the string into its tokens\n",
        "        tokens = string.split()\n",
        "        # If the length of the tokens is greater than 512, reduce it to 512\n",
        "        if len(tokens) > 512:\n",
        "            tokens = tokens[:512]\n",
        "            # Join the tokens to make the string\n",
        "            reduced_string = ' '.join(tokens)\n",
        "            # Append the reduced string to the reduced list\n",
        "            reduced_list.append(reduced_string)\n",
        "        # If the length of the tokens is less than 512, append the string to the reduced list\n",
        "        else:\n",
        "            reduced_list.append(string)\n",
        "    # Return the reduced list\n",
        "    return reduced_list"
      ],
      "metadata": {
        "id": "fzyW71bTI-V0"
      },
      "id": "fzyW71bTI-V0",
      "execution_count": 17,
      "outputs": []
    },
    {
      "cell_type": "code",
      "source": [
        "bodies = reduce_list_size(bodies)"
      ],
      "metadata": {
        "id": "sgVquKMHI_tH"
      },
      "id": "sgVquKMHI_tH",
      "execution_count": 18,
      "outputs": []
    },
    {
      "cell_type": "markdown",
      "source": [
        "# Perform Sentiment Analysis on Emails"
      ],
      "metadata": {
        "id": "8Ze5oZA-8T8J"
      },
      "id": "8Ze5oZA-8T8J"
    },
    {
      "cell_type": "code",
      "source": [
        "# Performing sentiment analysis on only subjects\n",
        "\n",
        "# Output sentiment classifications as binary value, 0 as negative, 1 as positive\n",
        "def sentiment_one_only(uids, contents, email_type):\n",
        "  binary_value = {}\n",
        "  print(\"Analyzing sentiment on email %s...\"%email_type)\n",
        "  #results = sentiment_pipeline(contents)\n",
        "  #print(\"Analysis COMPLETE.\")\n",
        "  #print(\"\")\n",
        "  i = 0\n",
        "  for string in contents:\n",
        "    print(\"%s: \"%email_type, string)\n",
        "    results = sentiment_pipeline(string[:512])\n",
        "    print(f\"Sentiment Classification: {results[0].get('label')}, with score: {results[0].get('score')}\")\n",
        "    \n",
        "    if results[0].get('label') == 'NEGATIVE':\n",
        "      binary_value[uids[i]] = 0\n",
        "    else:\n",
        "      binary_value[uids[i]] = 1\n",
        "\n",
        "    i += 1\n",
        "\n",
        "  return binary_value"
      ],
      "metadata": {
        "id": "juDmlTPUAvy7"
      },
      "id": "juDmlTPUAvy7",
      "execution_count": 19,
      "outputs": []
    },
    {
      "cell_type": "markdown",
      "source": [
        "# Sentiment analysis on titles only"
      ],
      "metadata": {
        "id": "lfFFOgF-Gk-u"
      },
      "id": "lfFFOgF-Gk-u"
    },
    {
      "cell_type": "code",
      "source": [
        "subject_sents = sentiment_one_only(uids, subjects, \"subject\")\n",
        "print(subject_sents)"
      ],
      "metadata": {
        "colab": {
          "base_uri": "https://localhost:8080/"
        },
        "id": "LN45sH5OGUts",
        "outputId": "56c36dbb-5468-4a3d-88f0-019905b7f7e6"
      },
      "id": "LN45sH5OGUts",
      "execution_count": 20,
      "outputs": [
        {
          "output_type": "stream",
          "name": "stdout",
          "text": [
            "Analyzing sentiment on email subject...\n",
            "subject:  Upcoming Event\n",
            "Sentiment Classification: POSITIVE, with score: 0.9987686276435852\n",
            "subject:  Bad Service >:(\n",
            "Sentiment Classification: NEGATIVE, with score: 0.9997867941856384\n",
            "subject:  Thank you\n",
            "Sentiment Classification: POSITIVE, with score: 0.9998352527618408\n",
            "subject:  Frustrated\n",
            "Sentiment Classification: NEGATIVE, with score: 0.9997798800468445\n",
            "subject:  Love ur products\n",
            "Sentiment Classification: POSITIVE, with score: 0.9898982644081116\n",
            "subject:  I'm pissed\n",
            "Sentiment Classification: NEGATIVE, with score: 0.999605119228363\n",
            "subject:  Color me impressed\n",
            "Sentiment Classification: POSITIVE, with score: 0.9998779296875\n",
            "subject:  I'm not satisfied\n",
            "Sentiment Classification: NEGATIVE, with score: 0.9997848868370056\n",
            "subject:  Yay\n",
            "Sentiment Classification: POSITIVE, with score: 0.9140976071357727\n",
            "subject:  We're through\n",
            "Sentiment Classification: POSITIVE, with score: 0.9833534955978394\n",
            "{b'162': 1, b'164': 0, b'166': 1, b'168': 0, b'170': 1, b'172': 0, b'174': 1, b'176': 0, b'178': 1, b'180': 1}\n"
          ]
        }
      ]
    },
    {
      "cell_type": "markdown",
      "source": [
        "# Sentiment analysis on bodies only"
      ],
      "metadata": {
        "id": "rb8oBb1KGoWb"
      },
      "id": "rb8oBb1KGoWb"
    },
    {
      "cell_type": "code",
      "source": [
        "body_sents = sentiment_one_only(uids, bodies, \"body\")\n",
        "print(body_sents)"
      ],
      "metadata": {
        "colab": {
          "base_uri": "https://localhost:8080/"
        },
        "id": "SUN58cEOGwXe",
        "outputId": "c9406dc3-2e40-41dc-eee8-f6cafdd6d12e"
      },
      "id": "SUN58cEOGwXe",
      "execution_count": 21,
      "outputs": [
        {
          "output_type": "stream",
          "name": "stdout",
          "text": [
            "Analyzing sentiment on email body...\n",
            "body:  I am so excited for the upcoming event - it's going to be a blast!\n",
            "Sentiment Classification: POSITIVE, with score: 0.9998310804367065\n",
            "body:  I am so disappointed with the service I received - I will never be returninghere again.\n",
            "Sentiment Classification: NEGATIVE, with score: 0.9996556043624878\n",
            "body:  I am so grateful for your help and support - thank you so much.\n",
            "Sentiment Classification: POSITIVE, with score: 0.9998295307159424\n",
            "body:  I am so frustrated with the wait time - I'm going to take my businesselsewhere.\n",
            "Sentiment Classification: NEGATIVE, with score: 0.9988405108451843\n",
            "body:  I am so pleased with the product I received - I will definitely be orderingmore in the future.\n",
            "Sentiment Classification: POSITIVE, with score: 0.9997034668922424\n",
            "body:  I am so angry with the customer service I received - I will be filing acomplaint.\n",
            "Sentiment Classification: NEGATIVE, with score: 0.9996387958526611\n",
            "body:  I am so impressed with the quality of the product - I will be recommendingit to others.\n",
            "Sentiment Classification: POSITIVE, with score: 0.9997822642326355\n",
            "body:  I am so dissatisfied with the results - I expected much better.\n",
            "Sentiment Classification: NEGATIVE, with score: 0.9996148347854614\n",
            "body:  I am so happy with the results - this exceeded my expectations.\n",
            "Sentiment Classification: POSITIVE, with score: 0.9998843669891357\n",
            "body:  I am so fed up with the lack of response - I'm done with this company.\n",
            "Sentiment Classification: NEGATIVE, with score: 0.9994288086891174\n",
            "{b'162': 1, b'164': 0, b'166': 1, b'168': 0, b'170': 1, b'172': 0, b'174': 1, b'176': 0, b'178': 1, b'180': 0}\n"
          ]
        }
      ]
    },
    {
      "cell_type": "markdown",
      "source": [
        "# Filter emails into Positive or Negative folders"
      ],
      "metadata": {
        "id": "V-WxzrtZbP2d"
      },
      "id": "V-WxzrtZbP2d"
    },
    {
      "cell_type": "code",
      "source": [
        "def parse_uid(msg_data):\n",
        "    pattern_uid = re.compile(r'\\d+ \\(UID (?P<uid>\\d+)\\)')\n",
        "    match = pattern_uid.match(msg_data)\n",
        "    return match.group('uid')"
      ],
      "metadata": {
        "id": "6EqO8qe2inNB"
      },
      "id": "6EqO8qe2inNB",
      "execution_count": 22,
      "outputs": []
    },
    {
      "cell_type": "code",
      "source": [
        "# Function to sort emails into Positive or Negative folders by sentiment\n",
        "# Takes dictionary with UID as key, binary value representing sentiment as value\n",
        "def sort_by_sentiment(sentiments):\n",
        "  for uid in sentiments.keys():\n",
        "    if sentiments.get(uid) == 0:\n",
        "      result = imap.uid('COPY', uid, 'Negative')\n",
        "    else:\n",
        "      result = imap.uid('COPY', uid, 'Positive')\n",
        "\n",
        "    if result[0] == 'OK':\n",
        "      mov, data = imap.uid('STORE', uid , '+FLAGS', '(\\Deleted)')\n",
        "      imap.expunge()"
      ],
      "metadata": {
        "id": "lr-MFvSAbOjL"
      },
      "id": "lr-MFvSAbOjL",
      "execution_count": 23,
      "outputs": []
    },
    {
      "cell_type": "code",
      "source": [
        "# Classification on email bodies gave us a higher score, lets use that\n",
        "sort_by_sentiment(body_sents)"
      ],
      "metadata": {
        "id": "ZqTUs5Aje7E6"
      },
      "id": "ZqTUs5Aje7E6",
      "execution_count": 24,
      "outputs": []
    }
  ],
  "metadata": {
    "kernelspec": {
      "display_name": "Python 3 (ipykernel)",
      "language": "python",
      "name": "python3"
    },
    "language_info": {
      "codemirror_mode": {
        "name": "ipython",
        "version": 3
      },
      "file_extension": ".py",
      "mimetype": "text/x-python",
      "name": "python",
      "nbconvert_exporter": "python",
      "pygments_lexer": "ipython3",
      "version": "3.9.7"
    },
    "colab": {
      "provenance": []
    },
    "accelerator": "GPU",
    "gpuClass": "standard",
    "widgets": {
      "application/vnd.jupyter.widget-state+json": {
        "3e70f9de3f6b40b2bebf3290d4993bd4": {
          "model_module": "@jupyter-widgets/controls",
          "model_name": "HBoxModel",
          "model_module_version": "1.5.0",
          "state": {
            "_dom_classes": [],
            "_model_module": "@jupyter-widgets/controls",
            "_model_module_version": "1.5.0",
            "_model_name": "HBoxModel",
            "_view_count": null,
            "_view_module": "@jupyter-widgets/controls",
            "_view_module_version": "1.5.0",
            "_view_name": "HBoxView",
            "box_style": "",
            "children": [
              "IPY_MODEL_176beafae16140d5a46dfa38c618c0b7",
              "IPY_MODEL_b76a1c3d8da34bf8a96b608dbaed1425",
              "IPY_MODEL_036397295af446da8e84bc50f9b8b27e"
            ],
            "layout": "IPY_MODEL_48a5770965fd4a229362d3809d9efd01"
          }
        },
        "176beafae16140d5a46dfa38c618c0b7": {
          "model_module": "@jupyter-widgets/controls",
          "model_name": "HTMLModel",
          "model_module_version": "1.5.0",
          "state": {
            "_dom_classes": [],
            "_model_module": "@jupyter-widgets/controls",
            "_model_module_version": "1.5.0",
            "_model_name": "HTMLModel",
            "_view_count": null,
            "_view_module": "@jupyter-widgets/controls",
            "_view_module_version": "1.5.0",
            "_view_name": "HTMLView",
            "description": "",
            "description_tooltip": null,
            "layout": "IPY_MODEL_a0f586d7d18c48f09fb21873993fadf8",
            "placeholder": "​",
            "style": "IPY_MODEL_ae81542846324315add68e9330dd4572",
            "value": "Downloading (…)lve/main/config.json: 100%"
          }
        },
        "b76a1c3d8da34bf8a96b608dbaed1425": {
          "model_module": "@jupyter-widgets/controls",
          "model_name": "FloatProgressModel",
          "model_module_version": "1.5.0",
          "state": {
            "_dom_classes": [],
            "_model_module": "@jupyter-widgets/controls",
            "_model_module_version": "1.5.0",
            "_model_name": "FloatProgressModel",
            "_view_count": null,
            "_view_module": "@jupyter-widgets/controls",
            "_view_module_version": "1.5.0",
            "_view_name": "ProgressView",
            "bar_style": "success",
            "description": "",
            "description_tooltip": null,
            "layout": "IPY_MODEL_f83316a64b5b4b69a72d9beb8f2cf105",
            "max": 629,
            "min": 0,
            "orientation": "horizontal",
            "style": "IPY_MODEL_cec95014acf24630bb2d3249f779b879",
            "value": 629
          }
        },
        "036397295af446da8e84bc50f9b8b27e": {
          "model_module": "@jupyter-widgets/controls",
          "model_name": "HTMLModel",
          "model_module_version": "1.5.0",
          "state": {
            "_dom_classes": [],
            "_model_module": "@jupyter-widgets/controls",
            "_model_module_version": "1.5.0",
            "_model_name": "HTMLModel",
            "_view_count": null,
            "_view_module": "@jupyter-widgets/controls",
            "_view_module_version": "1.5.0",
            "_view_name": "HTMLView",
            "description": "",
            "description_tooltip": null,
            "layout": "IPY_MODEL_120bf2acf5bd420cbe4bf8782a5f02f5",
            "placeholder": "​",
            "style": "IPY_MODEL_9849f93c2ad24f168646a2cc9703a15c",
            "value": " 629/629 [00:00&lt;00:00, 11.1kB/s]"
          }
        },
        "48a5770965fd4a229362d3809d9efd01": {
          "model_module": "@jupyter-widgets/base",
          "model_name": "LayoutModel",
          "model_module_version": "1.2.0",
          "state": {
            "_model_module": "@jupyter-widgets/base",
            "_model_module_version": "1.2.0",
            "_model_name": "LayoutModel",
            "_view_count": null,
            "_view_module": "@jupyter-widgets/base",
            "_view_module_version": "1.2.0",
            "_view_name": "LayoutView",
            "align_content": null,
            "align_items": null,
            "align_self": null,
            "border": null,
            "bottom": null,
            "display": null,
            "flex": null,
            "flex_flow": null,
            "grid_area": null,
            "grid_auto_columns": null,
            "grid_auto_flow": null,
            "grid_auto_rows": null,
            "grid_column": null,
            "grid_gap": null,
            "grid_row": null,
            "grid_template_areas": null,
            "grid_template_columns": null,
            "grid_template_rows": null,
            "height": null,
            "justify_content": null,
            "justify_items": null,
            "left": null,
            "margin": null,
            "max_height": null,
            "max_width": null,
            "min_height": null,
            "min_width": null,
            "object_fit": null,
            "object_position": null,
            "order": null,
            "overflow": null,
            "overflow_x": null,
            "overflow_y": null,
            "padding": null,
            "right": null,
            "top": null,
            "visibility": null,
            "width": null
          }
        },
        "a0f586d7d18c48f09fb21873993fadf8": {
          "model_module": "@jupyter-widgets/base",
          "model_name": "LayoutModel",
          "model_module_version": "1.2.0",
          "state": {
            "_model_module": "@jupyter-widgets/base",
            "_model_module_version": "1.2.0",
            "_model_name": "LayoutModel",
            "_view_count": null,
            "_view_module": "@jupyter-widgets/base",
            "_view_module_version": "1.2.0",
            "_view_name": "LayoutView",
            "align_content": null,
            "align_items": null,
            "align_self": null,
            "border": null,
            "bottom": null,
            "display": null,
            "flex": null,
            "flex_flow": null,
            "grid_area": null,
            "grid_auto_columns": null,
            "grid_auto_flow": null,
            "grid_auto_rows": null,
            "grid_column": null,
            "grid_gap": null,
            "grid_row": null,
            "grid_template_areas": null,
            "grid_template_columns": null,
            "grid_template_rows": null,
            "height": null,
            "justify_content": null,
            "justify_items": null,
            "left": null,
            "margin": null,
            "max_height": null,
            "max_width": null,
            "min_height": null,
            "min_width": null,
            "object_fit": null,
            "object_position": null,
            "order": null,
            "overflow": null,
            "overflow_x": null,
            "overflow_y": null,
            "padding": null,
            "right": null,
            "top": null,
            "visibility": null,
            "width": null
          }
        },
        "ae81542846324315add68e9330dd4572": {
          "model_module": "@jupyter-widgets/controls",
          "model_name": "DescriptionStyleModel",
          "model_module_version": "1.5.0",
          "state": {
            "_model_module": "@jupyter-widgets/controls",
            "_model_module_version": "1.5.0",
            "_model_name": "DescriptionStyleModel",
            "_view_count": null,
            "_view_module": "@jupyter-widgets/base",
            "_view_module_version": "1.2.0",
            "_view_name": "StyleView",
            "description_width": ""
          }
        },
        "f83316a64b5b4b69a72d9beb8f2cf105": {
          "model_module": "@jupyter-widgets/base",
          "model_name": "LayoutModel",
          "model_module_version": "1.2.0",
          "state": {
            "_model_module": "@jupyter-widgets/base",
            "_model_module_version": "1.2.0",
            "_model_name": "LayoutModel",
            "_view_count": null,
            "_view_module": "@jupyter-widgets/base",
            "_view_module_version": "1.2.0",
            "_view_name": "LayoutView",
            "align_content": null,
            "align_items": null,
            "align_self": null,
            "border": null,
            "bottom": null,
            "display": null,
            "flex": null,
            "flex_flow": null,
            "grid_area": null,
            "grid_auto_columns": null,
            "grid_auto_flow": null,
            "grid_auto_rows": null,
            "grid_column": null,
            "grid_gap": null,
            "grid_row": null,
            "grid_template_areas": null,
            "grid_template_columns": null,
            "grid_template_rows": null,
            "height": null,
            "justify_content": null,
            "justify_items": null,
            "left": null,
            "margin": null,
            "max_height": null,
            "max_width": null,
            "min_height": null,
            "min_width": null,
            "object_fit": null,
            "object_position": null,
            "order": null,
            "overflow": null,
            "overflow_x": null,
            "overflow_y": null,
            "padding": null,
            "right": null,
            "top": null,
            "visibility": null,
            "width": null
          }
        },
        "cec95014acf24630bb2d3249f779b879": {
          "model_module": "@jupyter-widgets/controls",
          "model_name": "ProgressStyleModel",
          "model_module_version": "1.5.0",
          "state": {
            "_model_module": "@jupyter-widgets/controls",
            "_model_module_version": "1.5.0",
            "_model_name": "ProgressStyleModel",
            "_view_count": null,
            "_view_module": "@jupyter-widgets/base",
            "_view_module_version": "1.2.0",
            "_view_name": "StyleView",
            "bar_color": null,
            "description_width": ""
          }
        },
        "120bf2acf5bd420cbe4bf8782a5f02f5": {
          "model_module": "@jupyter-widgets/base",
          "model_name": "LayoutModel",
          "model_module_version": "1.2.0",
          "state": {
            "_model_module": "@jupyter-widgets/base",
            "_model_module_version": "1.2.0",
            "_model_name": "LayoutModel",
            "_view_count": null,
            "_view_module": "@jupyter-widgets/base",
            "_view_module_version": "1.2.0",
            "_view_name": "LayoutView",
            "align_content": null,
            "align_items": null,
            "align_self": null,
            "border": null,
            "bottom": null,
            "display": null,
            "flex": null,
            "flex_flow": null,
            "grid_area": null,
            "grid_auto_columns": null,
            "grid_auto_flow": null,
            "grid_auto_rows": null,
            "grid_column": null,
            "grid_gap": null,
            "grid_row": null,
            "grid_template_areas": null,
            "grid_template_columns": null,
            "grid_template_rows": null,
            "height": null,
            "justify_content": null,
            "justify_items": null,
            "left": null,
            "margin": null,
            "max_height": null,
            "max_width": null,
            "min_height": null,
            "min_width": null,
            "object_fit": null,
            "object_position": null,
            "order": null,
            "overflow": null,
            "overflow_x": null,
            "overflow_y": null,
            "padding": null,
            "right": null,
            "top": null,
            "visibility": null,
            "width": null
          }
        },
        "9849f93c2ad24f168646a2cc9703a15c": {
          "model_module": "@jupyter-widgets/controls",
          "model_name": "DescriptionStyleModel",
          "model_module_version": "1.5.0",
          "state": {
            "_model_module": "@jupyter-widgets/controls",
            "_model_module_version": "1.5.0",
            "_model_name": "DescriptionStyleModel",
            "_view_count": null,
            "_view_module": "@jupyter-widgets/base",
            "_view_module_version": "1.2.0",
            "_view_name": "StyleView",
            "description_width": ""
          }
        },
        "9c715469bf594dbf93882c0e4d88fe7b": {
          "model_module": "@jupyter-widgets/controls",
          "model_name": "HBoxModel",
          "model_module_version": "1.5.0",
          "state": {
            "_dom_classes": [],
            "_model_module": "@jupyter-widgets/controls",
            "_model_module_version": "1.5.0",
            "_model_name": "HBoxModel",
            "_view_count": null,
            "_view_module": "@jupyter-widgets/controls",
            "_view_module_version": "1.5.0",
            "_view_name": "HBoxView",
            "box_style": "",
            "children": [
              "IPY_MODEL_e6956fda72124fdfa6c42560b1b3fdd3",
              "IPY_MODEL_dfa56ce8030646a7b666720f40b1c2ac",
              "IPY_MODEL_4f77ace331124bbdaae38e5fa56bdbe8"
            ],
            "layout": "IPY_MODEL_1d66fef2821a4e739fbdb0340a26f8ef"
          }
        },
        "e6956fda72124fdfa6c42560b1b3fdd3": {
          "model_module": "@jupyter-widgets/controls",
          "model_name": "HTMLModel",
          "model_module_version": "1.5.0",
          "state": {
            "_dom_classes": [],
            "_model_module": "@jupyter-widgets/controls",
            "_model_module_version": "1.5.0",
            "_model_name": "HTMLModel",
            "_view_count": null,
            "_view_module": "@jupyter-widgets/controls",
            "_view_module_version": "1.5.0",
            "_view_name": "HTMLView",
            "description": "",
            "description_tooltip": null,
            "layout": "IPY_MODEL_61f60fa054154eaaa6e76ed923a20bd5",
            "placeholder": "​",
            "style": "IPY_MODEL_eaa8a0b1afbf44598140fa8c98b45cbf",
            "value": "Downloading pytorch_model.bin: 100%"
          }
        },
        "dfa56ce8030646a7b666720f40b1c2ac": {
          "model_module": "@jupyter-widgets/controls",
          "model_name": "FloatProgressModel",
          "model_module_version": "1.5.0",
          "state": {
            "_dom_classes": [],
            "_model_module": "@jupyter-widgets/controls",
            "_model_module_version": "1.5.0",
            "_model_name": "FloatProgressModel",
            "_view_count": null,
            "_view_module": "@jupyter-widgets/controls",
            "_view_module_version": "1.5.0",
            "_view_name": "ProgressView",
            "bar_style": "success",
            "description": "",
            "description_tooltip": null,
            "layout": "IPY_MODEL_f3f179b2f385499f8fa817ee5ea40bb1",
            "max": 267844284,
            "min": 0,
            "orientation": "horizontal",
            "style": "IPY_MODEL_2b7fbeadf5ff42fa9f303b0f66641aa5",
            "value": 267844284
          }
        },
        "4f77ace331124bbdaae38e5fa56bdbe8": {
          "model_module": "@jupyter-widgets/controls",
          "model_name": "HTMLModel",
          "model_module_version": "1.5.0",
          "state": {
            "_dom_classes": [],
            "_model_module": "@jupyter-widgets/controls",
            "_model_module_version": "1.5.0",
            "_model_name": "HTMLModel",
            "_view_count": null,
            "_view_module": "@jupyter-widgets/controls",
            "_view_module_version": "1.5.0",
            "_view_name": "HTMLView",
            "description": "",
            "description_tooltip": null,
            "layout": "IPY_MODEL_c11daa0bd000400c8ac156bb7c6c44c0",
            "placeholder": "​",
            "style": "IPY_MODEL_309779e27b454d11b581f4b92d3b7858",
            "value": " 268M/268M [00:01&lt;00:00, 162MB/s]"
          }
        },
        "1d66fef2821a4e739fbdb0340a26f8ef": {
          "model_module": "@jupyter-widgets/base",
          "model_name": "LayoutModel",
          "model_module_version": "1.2.0",
          "state": {
            "_model_module": "@jupyter-widgets/base",
            "_model_module_version": "1.2.0",
            "_model_name": "LayoutModel",
            "_view_count": null,
            "_view_module": "@jupyter-widgets/base",
            "_view_module_version": "1.2.0",
            "_view_name": "LayoutView",
            "align_content": null,
            "align_items": null,
            "align_self": null,
            "border": null,
            "bottom": null,
            "display": null,
            "flex": null,
            "flex_flow": null,
            "grid_area": null,
            "grid_auto_columns": null,
            "grid_auto_flow": null,
            "grid_auto_rows": null,
            "grid_column": null,
            "grid_gap": null,
            "grid_row": null,
            "grid_template_areas": null,
            "grid_template_columns": null,
            "grid_template_rows": null,
            "height": null,
            "justify_content": null,
            "justify_items": null,
            "left": null,
            "margin": null,
            "max_height": null,
            "max_width": null,
            "min_height": null,
            "min_width": null,
            "object_fit": null,
            "object_position": null,
            "order": null,
            "overflow": null,
            "overflow_x": null,
            "overflow_y": null,
            "padding": null,
            "right": null,
            "top": null,
            "visibility": null,
            "width": null
          }
        },
        "61f60fa054154eaaa6e76ed923a20bd5": {
          "model_module": "@jupyter-widgets/base",
          "model_name": "LayoutModel",
          "model_module_version": "1.2.0",
          "state": {
            "_model_module": "@jupyter-widgets/base",
            "_model_module_version": "1.2.0",
            "_model_name": "LayoutModel",
            "_view_count": null,
            "_view_module": "@jupyter-widgets/base",
            "_view_module_version": "1.2.0",
            "_view_name": "LayoutView",
            "align_content": null,
            "align_items": null,
            "align_self": null,
            "border": null,
            "bottom": null,
            "display": null,
            "flex": null,
            "flex_flow": null,
            "grid_area": null,
            "grid_auto_columns": null,
            "grid_auto_flow": null,
            "grid_auto_rows": null,
            "grid_column": null,
            "grid_gap": null,
            "grid_row": null,
            "grid_template_areas": null,
            "grid_template_columns": null,
            "grid_template_rows": null,
            "height": null,
            "justify_content": null,
            "justify_items": null,
            "left": null,
            "margin": null,
            "max_height": null,
            "max_width": null,
            "min_height": null,
            "min_width": null,
            "object_fit": null,
            "object_position": null,
            "order": null,
            "overflow": null,
            "overflow_x": null,
            "overflow_y": null,
            "padding": null,
            "right": null,
            "top": null,
            "visibility": null,
            "width": null
          }
        },
        "eaa8a0b1afbf44598140fa8c98b45cbf": {
          "model_module": "@jupyter-widgets/controls",
          "model_name": "DescriptionStyleModel",
          "model_module_version": "1.5.0",
          "state": {
            "_model_module": "@jupyter-widgets/controls",
            "_model_module_version": "1.5.0",
            "_model_name": "DescriptionStyleModel",
            "_view_count": null,
            "_view_module": "@jupyter-widgets/base",
            "_view_module_version": "1.2.0",
            "_view_name": "StyleView",
            "description_width": ""
          }
        },
        "f3f179b2f385499f8fa817ee5ea40bb1": {
          "model_module": "@jupyter-widgets/base",
          "model_name": "LayoutModel",
          "model_module_version": "1.2.0",
          "state": {
            "_model_module": "@jupyter-widgets/base",
            "_model_module_version": "1.2.0",
            "_model_name": "LayoutModel",
            "_view_count": null,
            "_view_module": "@jupyter-widgets/base",
            "_view_module_version": "1.2.0",
            "_view_name": "LayoutView",
            "align_content": null,
            "align_items": null,
            "align_self": null,
            "border": null,
            "bottom": null,
            "display": null,
            "flex": null,
            "flex_flow": null,
            "grid_area": null,
            "grid_auto_columns": null,
            "grid_auto_flow": null,
            "grid_auto_rows": null,
            "grid_column": null,
            "grid_gap": null,
            "grid_row": null,
            "grid_template_areas": null,
            "grid_template_columns": null,
            "grid_template_rows": null,
            "height": null,
            "justify_content": null,
            "justify_items": null,
            "left": null,
            "margin": null,
            "max_height": null,
            "max_width": null,
            "min_height": null,
            "min_width": null,
            "object_fit": null,
            "object_position": null,
            "order": null,
            "overflow": null,
            "overflow_x": null,
            "overflow_y": null,
            "padding": null,
            "right": null,
            "top": null,
            "visibility": null,
            "width": null
          }
        },
        "2b7fbeadf5ff42fa9f303b0f66641aa5": {
          "model_module": "@jupyter-widgets/controls",
          "model_name": "ProgressStyleModel",
          "model_module_version": "1.5.0",
          "state": {
            "_model_module": "@jupyter-widgets/controls",
            "_model_module_version": "1.5.0",
            "_model_name": "ProgressStyleModel",
            "_view_count": null,
            "_view_module": "@jupyter-widgets/base",
            "_view_module_version": "1.2.0",
            "_view_name": "StyleView",
            "bar_color": null,
            "description_width": ""
          }
        },
        "c11daa0bd000400c8ac156bb7c6c44c0": {
          "model_module": "@jupyter-widgets/base",
          "model_name": "LayoutModel",
          "model_module_version": "1.2.0",
          "state": {
            "_model_module": "@jupyter-widgets/base",
            "_model_module_version": "1.2.0",
            "_model_name": "LayoutModel",
            "_view_count": null,
            "_view_module": "@jupyter-widgets/base",
            "_view_module_version": "1.2.0",
            "_view_name": "LayoutView",
            "align_content": null,
            "align_items": null,
            "align_self": null,
            "border": null,
            "bottom": null,
            "display": null,
            "flex": null,
            "flex_flow": null,
            "grid_area": null,
            "grid_auto_columns": null,
            "grid_auto_flow": null,
            "grid_auto_rows": null,
            "grid_column": null,
            "grid_gap": null,
            "grid_row": null,
            "grid_template_areas": null,
            "grid_template_columns": null,
            "grid_template_rows": null,
            "height": null,
            "justify_content": null,
            "justify_items": null,
            "left": null,
            "margin": null,
            "max_height": null,
            "max_width": null,
            "min_height": null,
            "min_width": null,
            "object_fit": null,
            "object_position": null,
            "order": null,
            "overflow": null,
            "overflow_x": null,
            "overflow_y": null,
            "padding": null,
            "right": null,
            "top": null,
            "visibility": null,
            "width": null
          }
        },
        "309779e27b454d11b581f4b92d3b7858": {
          "model_module": "@jupyter-widgets/controls",
          "model_name": "DescriptionStyleModel",
          "model_module_version": "1.5.0",
          "state": {
            "_model_module": "@jupyter-widgets/controls",
            "_model_module_version": "1.5.0",
            "_model_name": "DescriptionStyleModel",
            "_view_count": null,
            "_view_module": "@jupyter-widgets/base",
            "_view_module_version": "1.2.0",
            "_view_name": "StyleView",
            "description_width": ""
          }
        },
        "f97f53f60b464c79960002a20ca225a5": {
          "model_module": "@jupyter-widgets/controls",
          "model_name": "HBoxModel",
          "model_module_version": "1.5.0",
          "state": {
            "_dom_classes": [],
            "_model_module": "@jupyter-widgets/controls",
            "_model_module_version": "1.5.0",
            "_model_name": "HBoxModel",
            "_view_count": null,
            "_view_module": "@jupyter-widgets/controls",
            "_view_module_version": "1.5.0",
            "_view_name": "HBoxView",
            "box_style": "",
            "children": [
              "IPY_MODEL_732d53746dea48988575c75d125f9b10",
              "IPY_MODEL_d6afe888f3524f1c91da35ce2698c9a4",
              "IPY_MODEL_d4ac1909ebb44197ac7dd157ba13da28"
            ],
            "layout": "IPY_MODEL_69191d32db4c40f2b7b9d3de1cff1c0b"
          }
        },
        "732d53746dea48988575c75d125f9b10": {
          "model_module": "@jupyter-widgets/controls",
          "model_name": "HTMLModel",
          "model_module_version": "1.5.0",
          "state": {
            "_dom_classes": [],
            "_model_module": "@jupyter-widgets/controls",
            "_model_module_version": "1.5.0",
            "_model_name": "HTMLModel",
            "_view_count": null,
            "_view_module": "@jupyter-widgets/controls",
            "_view_module_version": "1.5.0",
            "_view_name": "HTMLView",
            "description": "",
            "description_tooltip": null,
            "layout": "IPY_MODEL_62ba622a4f4b4ab880b0d430942cb357",
            "placeholder": "​",
            "style": "IPY_MODEL_f27be30086024afb8112328e775bd9a2",
            "value": "Downloading (…)okenizer_config.json: 100%"
          }
        },
        "d6afe888f3524f1c91da35ce2698c9a4": {
          "model_module": "@jupyter-widgets/controls",
          "model_name": "FloatProgressModel",
          "model_module_version": "1.5.0",
          "state": {
            "_dom_classes": [],
            "_model_module": "@jupyter-widgets/controls",
            "_model_module_version": "1.5.0",
            "_model_name": "FloatProgressModel",
            "_view_count": null,
            "_view_module": "@jupyter-widgets/controls",
            "_view_module_version": "1.5.0",
            "_view_name": "ProgressView",
            "bar_style": "success",
            "description": "",
            "description_tooltip": null,
            "layout": "IPY_MODEL_e349e7b372aa41a497602ff5dfeea935",
            "max": 48,
            "min": 0,
            "orientation": "horizontal",
            "style": "IPY_MODEL_0129be96740f43058bb896686ac683a7",
            "value": 48
          }
        },
        "d4ac1909ebb44197ac7dd157ba13da28": {
          "model_module": "@jupyter-widgets/controls",
          "model_name": "HTMLModel",
          "model_module_version": "1.5.0",
          "state": {
            "_dom_classes": [],
            "_model_module": "@jupyter-widgets/controls",
            "_model_module_version": "1.5.0",
            "_model_name": "HTMLModel",
            "_view_count": null,
            "_view_module": "@jupyter-widgets/controls",
            "_view_module_version": "1.5.0",
            "_view_name": "HTMLView",
            "description": "",
            "description_tooltip": null,
            "layout": "IPY_MODEL_2baccacfd9df4c3e9d12d2b6218148ae",
            "placeholder": "​",
            "style": "IPY_MODEL_92c95e9339904611a29072c0591fe01a",
            "value": " 48.0/48.0 [00:00&lt;00:00, 961B/s]"
          }
        },
        "69191d32db4c40f2b7b9d3de1cff1c0b": {
          "model_module": "@jupyter-widgets/base",
          "model_name": "LayoutModel",
          "model_module_version": "1.2.0",
          "state": {
            "_model_module": "@jupyter-widgets/base",
            "_model_module_version": "1.2.0",
            "_model_name": "LayoutModel",
            "_view_count": null,
            "_view_module": "@jupyter-widgets/base",
            "_view_module_version": "1.2.0",
            "_view_name": "LayoutView",
            "align_content": null,
            "align_items": null,
            "align_self": null,
            "border": null,
            "bottom": null,
            "display": null,
            "flex": null,
            "flex_flow": null,
            "grid_area": null,
            "grid_auto_columns": null,
            "grid_auto_flow": null,
            "grid_auto_rows": null,
            "grid_column": null,
            "grid_gap": null,
            "grid_row": null,
            "grid_template_areas": null,
            "grid_template_columns": null,
            "grid_template_rows": null,
            "height": null,
            "justify_content": null,
            "justify_items": null,
            "left": null,
            "margin": null,
            "max_height": null,
            "max_width": null,
            "min_height": null,
            "min_width": null,
            "object_fit": null,
            "object_position": null,
            "order": null,
            "overflow": null,
            "overflow_x": null,
            "overflow_y": null,
            "padding": null,
            "right": null,
            "top": null,
            "visibility": null,
            "width": null
          }
        },
        "62ba622a4f4b4ab880b0d430942cb357": {
          "model_module": "@jupyter-widgets/base",
          "model_name": "LayoutModel",
          "model_module_version": "1.2.0",
          "state": {
            "_model_module": "@jupyter-widgets/base",
            "_model_module_version": "1.2.0",
            "_model_name": "LayoutModel",
            "_view_count": null,
            "_view_module": "@jupyter-widgets/base",
            "_view_module_version": "1.2.0",
            "_view_name": "LayoutView",
            "align_content": null,
            "align_items": null,
            "align_self": null,
            "border": null,
            "bottom": null,
            "display": null,
            "flex": null,
            "flex_flow": null,
            "grid_area": null,
            "grid_auto_columns": null,
            "grid_auto_flow": null,
            "grid_auto_rows": null,
            "grid_column": null,
            "grid_gap": null,
            "grid_row": null,
            "grid_template_areas": null,
            "grid_template_columns": null,
            "grid_template_rows": null,
            "height": null,
            "justify_content": null,
            "justify_items": null,
            "left": null,
            "margin": null,
            "max_height": null,
            "max_width": null,
            "min_height": null,
            "min_width": null,
            "object_fit": null,
            "object_position": null,
            "order": null,
            "overflow": null,
            "overflow_x": null,
            "overflow_y": null,
            "padding": null,
            "right": null,
            "top": null,
            "visibility": null,
            "width": null
          }
        },
        "f27be30086024afb8112328e775bd9a2": {
          "model_module": "@jupyter-widgets/controls",
          "model_name": "DescriptionStyleModel",
          "model_module_version": "1.5.0",
          "state": {
            "_model_module": "@jupyter-widgets/controls",
            "_model_module_version": "1.5.0",
            "_model_name": "DescriptionStyleModel",
            "_view_count": null,
            "_view_module": "@jupyter-widgets/base",
            "_view_module_version": "1.2.0",
            "_view_name": "StyleView",
            "description_width": ""
          }
        },
        "e349e7b372aa41a497602ff5dfeea935": {
          "model_module": "@jupyter-widgets/base",
          "model_name": "LayoutModel",
          "model_module_version": "1.2.0",
          "state": {
            "_model_module": "@jupyter-widgets/base",
            "_model_module_version": "1.2.0",
            "_model_name": "LayoutModel",
            "_view_count": null,
            "_view_module": "@jupyter-widgets/base",
            "_view_module_version": "1.2.0",
            "_view_name": "LayoutView",
            "align_content": null,
            "align_items": null,
            "align_self": null,
            "border": null,
            "bottom": null,
            "display": null,
            "flex": null,
            "flex_flow": null,
            "grid_area": null,
            "grid_auto_columns": null,
            "grid_auto_flow": null,
            "grid_auto_rows": null,
            "grid_column": null,
            "grid_gap": null,
            "grid_row": null,
            "grid_template_areas": null,
            "grid_template_columns": null,
            "grid_template_rows": null,
            "height": null,
            "justify_content": null,
            "justify_items": null,
            "left": null,
            "margin": null,
            "max_height": null,
            "max_width": null,
            "min_height": null,
            "min_width": null,
            "object_fit": null,
            "object_position": null,
            "order": null,
            "overflow": null,
            "overflow_x": null,
            "overflow_y": null,
            "padding": null,
            "right": null,
            "top": null,
            "visibility": null,
            "width": null
          }
        },
        "0129be96740f43058bb896686ac683a7": {
          "model_module": "@jupyter-widgets/controls",
          "model_name": "ProgressStyleModel",
          "model_module_version": "1.5.0",
          "state": {
            "_model_module": "@jupyter-widgets/controls",
            "_model_module_version": "1.5.0",
            "_model_name": "ProgressStyleModel",
            "_view_count": null,
            "_view_module": "@jupyter-widgets/base",
            "_view_module_version": "1.2.0",
            "_view_name": "StyleView",
            "bar_color": null,
            "description_width": ""
          }
        },
        "2baccacfd9df4c3e9d12d2b6218148ae": {
          "model_module": "@jupyter-widgets/base",
          "model_name": "LayoutModel",
          "model_module_version": "1.2.0",
          "state": {
            "_model_module": "@jupyter-widgets/base",
            "_model_module_version": "1.2.0",
            "_model_name": "LayoutModel",
            "_view_count": null,
            "_view_module": "@jupyter-widgets/base",
            "_view_module_version": "1.2.0",
            "_view_name": "LayoutView",
            "align_content": null,
            "align_items": null,
            "align_self": null,
            "border": null,
            "bottom": null,
            "display": null,
            "flex": null,
            "flex_flow": null,
            "grid_area": null,
            "grid_auto_columns": null,
            "grid_auto_flow": null,
            "grid_auto_rows": null,
            "grid_column": null,
            "grid_gap": null,
            "grid_row": null,
            "grid_template_areas": null,
            "grid_template_columns": null,
            "grid_template_rows": null,
            "height": null,
            "justify_content": null,
            "justify_items": null,
            "left": null,
            "margin": null,
            "max_height": null,
            "max_width": null,
            "min_height": null,
            "min_width": null,
            "object_fit": null,
            "object_position": null,
            "order": null,
            "overflow": null,
            "overflow_x": null,
            "overflow_y": null,
            "padding": null,
            "right": null,
            "top": null,
            "visibility": null,
            "width": null
          }
        },
        "92c95e9339904611a29072c0591fe01a": {
          "model_module": "@jupyter-widgets/controls",
          "model_name": "DescriptionStyleModel",
          "model_module_version": "1.5.0",
          "state": {
            "_model_module": "@jupyter-widgets/controls",
            "_model_module_version": "1.5.0",
            "_model_name": "DescriptionStyleModel",
            "_view_count": null,
            "_view_module": "@jupyter-widgets/base",
            "_view_module_version": "1.2.0",
            "_view_name": "StyleView",
            "description_width": ""
          }
        },
        "3600720e0682497d9486c64d2208b43a": {
          "model_module": "@jupyter-widgets/controls",
          "model_name": "HBoxModel",
          "model_module_version": "1.5.0",
          "state": {
            "_dom_classes": [],
            "_model_module": "@jupyter-widgets/controls",
            "_model_module_version": "1.5.0",
            "_model_name": "HBoxModel",
            "_view_count": null,
            "_view_module": "@jupyter-widgets/controls",
            "_view_module_version": "1.5.0",
            "_view_name": "HBoxView",
            "box_style": "",
            "children": [
              "IPY_MODEL_2e189261865943129f0f171ce6802f6f",
              "IPY_MODEL_ca777e860a9048808bb12df45480230f",
              "IPY_MODEL_91e69b506e484559bde7090bf88d2d91"
            ],
            "layout": "IPY_MODEL_83511889424b44d0bb69a12eb892f2b9"
          }
        },
        "2e189261865943129f0f171ce6802f6f": {
          "model_module": "@jupyter-widgets/controls",
          "model_name": "HTMLModel",
          "model_module_version": "1.5.0",
          "state": {
            "_dom_classes": [],
            "_model_module": "@jupyter-widgets/controls",
            "_model_module_version": "1.5.0",
            "_model_name": "HTMLModel",
            "_view_count": null,
            "_view_module": "@jupyter-widgets/controls",
            "_view_module_version": "1.5.0",
            "_view_name": "HTMLView",
            "description": "",
            "description_tooltip": null,
            "layout": "IPY_MODEL_c8e21700dc174c9484950bf0af91cd09",
            "placeholder": "​",
            "style": "IPY_MODEL_0952d0cd41d3435a9f3f0643d8e6846d",
            "value": "Downloading (…)solve/main/vocab.txt: 100%"
          }
        },
        "ca777e860a9048808bb12df45480230f": {
          "model_module": "@jupyter-widgets/controls",
          "model_name": "FloatProgressModel",
          "model_module_version": "1.5.0",
          "state": {
            "_dom_classes": [],
            "_model_module": "@jupyter-widgets/controls",
            "_model_module_version": "1.5.0",
            "_model_name": "FloatProgressModel",
            "_view_count": null,
            "_view_module": "@jupyter-widgets/controls",
            "_view_module_version": "1.5.0",
            "_view_name": "ProgressView",
            "bar_style": "success",
            "description": "",
            "description_tooltip": null,
            "layout": "IPY_MODEL_a46f38b9e5064bcf8ff3c0e02c32558c",
            "max": 231508,
            "min": 0,
            "orientation": "horizontal",
            "style": "IPY_MODEL_5e3d5a56501f4e1eb88b5e6391c66315",
            "value": 231508
          }
        },
        "91e69b506e484559bde7090bf88d2d91": {
          "model_module": "@jupyter-widgets/controls",
          "model_name": "HTMLModel",
          "model_module_version": "1.5.0",
          "state": {
            "_dom_classes": [],
            "_model_module": "@jupyter-widgets/controls",
            "_model_module_version": "1.5.0",
            "_model_name": "HTMLModel",
            "_view_count": null,
            "_view_module": "@jupyter-widgets/controls",
            "_view_module_version": "1.5.0",
            "_view_name": "HTMLView",
            "description": "",
            "description_tooltip": null,
            "layout": "IPY_MODEL_2c0772f88e0f4d0b9059f70b29cf2977",
            "placeholder": "​",
            "style": "IPY_MODEL_3ddf9a34abf44c949bd263d790652271",
            "value": " 232k/232k [00:00&lt;00:00, 549kB/s]"
          }
        },
        "83511889424b44d0bb69a12eb892f2b9": {
          "model_module": "@jupyter-widgets/base",
          "model_name": "LayoutModel",
          "model_module_version": "1.2.0",
          "state": {
            "_model_module": "@jupyter-widgets/base",
            "_model_module_version": "1.2.0",
            "_model_name": "LayoutModel",
            "_view_count": null,
            "_view_module": "@jupyter-widgets/base",
            "_view_module_version": "1.2.0",
            "_view_name": "LayoutView",
            "align_content": null,
            "align_items": null,
            "align_self": null,
            "border": null,
            "bottom": null,
            "display": null,
            "flex": null,
            "flex_flow": null,
            "grid_area": null,
            "grid_auto_columns": null,
            "grid_auto_flow": null,
            "grid_auto_rows": null,
            "grid_column": null,
            "grid_gap": null,
            "grid_row": null,
            "grid_template_areas": null,
            "grid_template_columns": null,
            "grid_template_rows": null,
            "height": null,
            "justify_content": null,
            "justify_items": null,
            "left": null,
            "margin": null,
            "max_height": null,
            "max_width": null,
            "min_height": null,
            "min_width": null,
            "object_fit": null,
            "object_position": null,
            "order": null,
            "overflow": null,
            "overflow_x": null,
            "overflow_y": null,
            "padding": null,
            "right": null,
            "top": null,
            "visibility": null,
            "width": null
          }
        },
        "c8e21700dc174c9484950bf0af91cd09": {
          "model_module": "@jupyter-widgets/base",
          "model_name": "LayoutModel",
          "model_module_version": "1.2.0",
          "state": {
            "_model_module": "@jupyter-widgets/base",
            "_model_module_version": "1.2.0",
            "_model_name": "LayoutModel",
            "_view_count": null,
            "_view_module": "@jupyter-widgets/base",
            "_view_module_version": "1.2.0",
            "_view_name": "LayoutView",
            "align_content": null,
            "align_items": null,
            "align_self": null,
            "border": null,
            "bottom": null,
            "display": null,
            "flex": null,
            "flex_flow": null,
            "grid_area": null,
            "grid_auto_columns": null,
            "grid_auto_flow": null,
            "grid_auto_rows": null,
            "grid_column": null,
            "grid_gap": null,
            "grid_row": null,
            "grid_template_areas": null,
            "grid_template_columns": null,
            "grid_template_rows": null,
            "height": null,
            "justify_content": null,
            "justify_items": null,
            "left": null,
            "margin": null,
            "max_height": null,
            "max_width": null,
            "min_height": null,
            "min_width": null,
            "object_fit": null,
            "object_position": null,
            "order": null,
            "overflow": null,
            "overflow_x": null,
            "overflow_y": null,
            "padding": null,
            "right": null,
            "top": null,
            "visibility": null,
            "width": null
          }
        },
        "0952d0cd41d3435a9f3f0643d8e6846d": {
          "model_module": "@jupyter-widgets/controls",
          "model_name": "DescriptionStyleModel",
          "model_module_version": "1.5.0",
          "state": {
            "_model_module": "@jupyter-widgets/controls",
            "_model_module_version": "1.5.0",
            "_model_name": "DescriptionStyleModel",
            "_view_count": null,
            "_view_module": "@jupyter-widgets/base",
            "_view_module_version": "1.2.0",
            "_view_name": "StyleView",
            "description_width": ""
          }
        },
        "a46f38b9e5064bcf8ff3c0e02c32558c": {
          "model_module": "@jupyter-widgets/base",
          "model_name": "LayoutModel",
          "model_module_version": "1.2.0",
          "state": {
            "_model_module": "@jupyter-widgets/base",
            "_model_module_version": "1.2.0",
            "_model_name": "LayoutModel",
            "_view_count": null,
            "_view_module": "@jupyter-widgets/base",
            "_view_module_version": "1.2.0",
            "_view_name": "LayoutView",
            "align_content": null,
            "align_items": null,
            "align_self": null,
            "border": null,
            "bottom": null,
            "display": null,
            "flex": null,
            "flex_flow": null,
            "grid_area": null,
            "grid_auto_columns": null,
            "grid_auto_flow": null,
            "grid_auto_rows": null,
            "grid_column": null,
            "grid_gap": null,
            "grid_row": null,
            "grid_template_areas": null,
            "grid_template_columns": null,
            "grid_template_rows": null,
            "height": null,
            "justify_content": null,
            "justify_items": null,
            "left": null,
            "margin": null,
            "max_height": null,
            "max_width": null,
            "min_height": null,
            "min_width": null,
            "object_fit": null,
            "object_position": null,
            "order": null,
            "overflow": null,
            "overflow_x": null,
            "overflow_y": null,
            "padding": null,
            "right": null,
            "top": null,
            "visibility": null,
            "width": null
          }
        },
        "5e3d5a56501f4e1eb88b5e6391c66315": {
          "model_module": "@jupyter-widgets/controls",
          "model_name": "ProgressStyleModel",
          "model_module_version": "1.5.0",
          "state": {
            "_model_module": "@jupyter-widgets/controls",
            "_model_module_version": "1.5.0",
            "_model_name": "ProgressStyleModel",
            "_view_count": null,
            "_view_module": "@jupyter-widgets/base",
            "_view_module_version": "1.2.0",
            "_view_name": "StyleView",
            "bar_color": null,
            "description_width": ""
          }
        },
        "2c0772f88e0f4d0b9059f70b29cf2977": {
          "model_module": "@jupyter-widgets/base",
          "model_name": "LayoutModel",
          "model_module_version": "1.2.0",
          "state": {
            "_model_module": "@jupyter-widgets/base",
            "_model_module_version": "1.2.0",
            "_model_name": "LayoutModel",
            "_view_count": null,
            "_view_module": "@jupyter-widgets/base",
            "_view_module_version": "1.2.0",
            "_view_name": "LayoutView",
            "align_content": null,
            "align_items": null,
            "align_self": null,
            "border": null,
            "bottom": null,
            "display": null,
            "flex": null,
            "flex_flow": null,
            "grid_area": null,
            "grid_auto_columns": null,
            "grid_auto_flow": null,
            "grid_auto_rows": null,
            "grid_column": null,
            "grid_gap": null,
            "grid_row": null,
            "grid_template_areas": null,
            "grid_template_columns": null,
            "grid_template_rows": null,
            "height": null,
            "justify_content": null,
            "justify_items": null,
            "left": null,
            "margin": null,
            "max_height": null,
            "max_width": null,
            "min_height": null,
            "min_width": null,
            "object_fit": null,
            "object_position": null,
            "order": null,
            "overflow": null,
            "overflow_x": null,
            "overflow_y": null,
            "padding": null,
            "right": null,
            "top": null,
            "visibility": null,
            "width": null
          }
        },
        "3ddf9a34abf44c949bd263d790652271": {
          "model_module": "@jupyter-widgets/controls",
          "model_name": "DescriptionStyleModel",
          "model_module_version": "1.5.0",
          "state": {
            "_model_module": "@jupyter-widgets/controls",
            "_model_module_version": "1.5.0",
            "_model_name": "DescriptionStyleModel",
            "_view_count": null,
            "_view_module": "@jupyter-widgets/base",
            "_view_module_version": "1.2.0",
            "_view_name": "StyleView",
            "description_width": ""
          }
        }
      }
    }
  },
  "nbformat": 4,
  "nbformat_minor": 5
}